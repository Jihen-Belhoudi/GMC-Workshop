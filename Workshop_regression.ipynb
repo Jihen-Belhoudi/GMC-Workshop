{
  "nbformat": 4,
  "nbformat_minor": 0,
  "metadata": {
    "colab": {
      "provenance": []
    },
    "kernelspec": {
      "name": "python3",
      "display_name": "Python 3"
    },
    "language_info": {
      "name": "python"
    }
  },
  "cells": [
    {
      "cell_type": "code",
      "execution_count": null,
      "metadata": {
        "id": "r910zrirEoGF"
      },
      "outputs": [],
      "source": [
        "import pandas as pd\n",
        "import numpy as np\n",
        "import matplotlib.pyplot as plt\n",
        "import seaborn as sns\n",
        "from sklearn.metrics import mean_squared_error\n",
        "from sklearn import metrics"
      ]
    },
    {
      "cell_type": "code",
      "source": [
        "dataset=pd.read_csv(\"Consommation-autos.txt\",delimiter=\"\\t\")\n",
        "dataset"
      ],
      "metadata": {
        "colab": {
          "base_uri": "https://localhost:8080/",
          "height": 1000
        },
        "id": "LAR78TLRIMyH",
        "outputId": "6a4e19d4-39bd-4ca3-d89a-86df9ba50f07"
      },
      "execution_count": null,
      "outputs": [
        {
          "output_type": "execute_result",
          "data": {
            "text/plain": [
              "                     modele    prix  cylindree  puissance  poids   conso\n",
              "0            Daihatsu Cuore   11600        846         32     650    5.7\n",
              "1      Suzuki Swift 1.0 GLS   12490        993         39     790    5.8\n",
              "2        Fiat Panda Mambo L   10450        899         29     730    6.1\n",
              "3            VW Polo 1.4 60   17140       1390         44     955    6.5\n",
              "4       Opel Corsa 1.2i Eco   14825       1195         33     895    6.8\n",
              "5          Subaru Vivio 4WD   13730        658         32     740    6.8\n",
              "6            Toyota Corolla   19490       1331         55    1010    7.1\n",
              "7            Ferrari 456 GT  285000       5474        325    1690   21.3\n",
              "8            Mercedes S 600  183900       5987        300    2250   18.7\n",
              "9        Maserati Ghibli GT   92500       2789        209    1485   14.5\n",
              "10      Opel Astra 1.6i 16V   25000       1597         74    1080    7.4\n",
              "11       Peugeot 306 XS 108   22350       1761         74    1100    9.0\n",
              "12   Renault Safrane 2.2. V   36600       2165        101    1500   11.7\n",
              "13       Seat Ibiza 2.0 GTI   22500       1983         85    1075    9.5\n",
              "14          VW Golt 2.0 GTI   31580       1984         85    1155    9.5\n",
              "15       Citroen ZX Volcane   28750       1998         89    1140    8.8\n",
              "16  Fiat Tempra 1.6 Liberty   22600       1580         65    1080    9.3\n",
              "17      Fort Escort 1.4i PT   20300       1390         54    1110    8.6\n",
              "18    Honda Civic Joker 1.4   19900       1396         66    1140    7.7\n",
              "19            Volvo 850 2.5   39800       2435        106    1370   10.8\n",
              "20    Ford Fiesta 1.2 Zetec   19740       1242         55     940    6.6\n",
              "21      Hyundai Sonata 3000   38990       2972        107    1400   11.7\n",
              "22          Lancia K 3.0 LS   50800       2958        150    1550   11.9\n",
              "23        Mazda Hachtback V   36200       2497        122    1330   10.8\n",
              "24        Mitsubishi Galant   31990       1998         66    1300    7.6\n",
              "25       Opel Omega 2.5i V6   47700       2496        125    1670   11.3\n",
              "26          Peugeot 806 2.0   36950       1998         89    1560   10.8\n",
              "27       Nissan Primera 2.0   26950       1997         92    1240    9.2\n",
              "28        Seat Alhambra 2.0   36400       1984         85    1635   11.6\n",
              "29      Toyota Previa salon   50900       2438         97    1800   12.8\n",
              "30      Volvo 960 Kombi aut   49300       2473        125    1570   12.7"
            ],
            "text/html": [
              "\n",
              "  <div id=\"df-72fbdb65-6487-44b7-a858-3a96478b4ed4\">\n",
              "    <div class=\"colab-df-container\">\n",
              "      <div>\n",
              "<style scoped>\n",
              "    .dataframe tbody tr th:only-of-type {\n",
              "        vertical-align: middle;\n",
              "    }\n",
              "\n",
              "    .dataframe tbody tr th {\n",
              "        vertical-align: top;\n",
              "    }\n",
              "\n",
              "    .dataframe thead th {\n",
              "        text-align: right;\n",
              "    }\n",
              "</style>\n",
              "<table border=\"1\" class=\"dataframe\">\n",
              "  <thead>\n",
              "    <tr style=\"text-align: right;\">\n",
              "      <th></th>\n",
              "      <th>modele</th>\n",
              "      <th>prix</th>\n",
              "      <th>cylindree</th>\n",
              "      <th>puissance</th>\n",
              "      <th>poids</th>\n",
              "      <th>conso</th>\n",
              "    </tr>\n",
              "  </thead>\n",
              "  <tbody>\n",
              "    <tr>\n",
              "      <th>0</th>\n",
              "      <td>Daihatsu Cuore</td>\n",
              "      <td>11600</td>\n",
              "      <td>846</td>\n",
              "      <td>32</td>\n",
              "      <td>650</td>\n",
              "      <td>5.7</td>\n",
              "    </tr>\n",
              "    <tr>\n",
              "      <th>1</th>\n",
              "      <td>Suzuki Swift 1.0 GLS</td>\n",
              "      <td>12490</td>\n",
              "      <td>993</td>\n",
              "      <td>39</td>\n",
              "      <td>790</td>\n",
              "      <td>5.8</td>\n",
              "    </tr>\n",
              "    <tr>\n",
              "      <th>2</th>\n",
              "      <td>Fiat Panda Mambo L</td>\n",
              "      <td>10450</td>\n",
              "      <td>899</td>\n",
              "      <td>29</td>\n",
              "      <td>730</td>\n",
              "      <td>6.1</td>\n",
              "    </tr>\n",
              "    <tr>\n",
              "      <th>3</th>\n",
              "      <td>VW Polo 1.4 60</td>\n",
              "      <td>17140</td>\n",
              "      <td>1390</td>\n",
              "      <td>44</td>\n",
              "      <td>955</td>\n",
              "      <td>6.5</td>\n",
              "    </tr>\n",
              "    <tr>\n",
              "      <th>4</th>\n",
              "      <td>Opel Corsa 1.2i Eco</td>\n",
              "      <td>14825</td>\n",
              "      <td>1195</td>\n",
              "      <td>33</td>\n",
              "      <td>895</td>\n",
              "      <td>6.8</td>\n",
              "    </tr>\n",
              "    <tr>\n",
              "      <th>5</th>\n",
              "      <td>Subaru Vivio 4WD</td>\n",
              "      <td>13730</td>\n",
              "      <td>658</td>\n",
              "      <td>32</td>\n",
              "      <td>740</td>\n",
              "      <td>6.8</td>\n",
              "    </tr>\n",
              "    <tr>\n",
              "      <th>6</th>\n",
              "      <td>Toyota Corolla</td>\n",
              "      <td>19490</td>\n",
              "      <td>1331</td>\n",
              "      <td>55</td>\n",
              "      <td>1010</td>\n",
              "      <td>7.1</td>\n",
              "    </tr>\n",
              "    <tr>\n",
              "      <th>7</th>\n",
              "      <td>Ferrari 456 GT</td>\n",
              "      <td>285000</td>\n",
              "      <td>5474</td>\n",
              "      <td>325</td>\n",
              "      <td>1690</td>\n",
              "      <td>21.3</td>\n",
              "    </tr>\n",
              "    <tr>\n",
              "      <th>8</th>\n",
              "      <td>Mercedes S 600</td>\n",
              "      <td>183900</td>\n",
              "      <td>5987</td>\n",
              "      <td>300</td>\n",
              "      <td>2250</td>\n",
              "      <td>18.7</td>\n",
              "    </tr>\n",
              "    <tr>\n",
              "      <th>9</th>\n",
              "      <td>Maserati Ghibli GT</td>\n",
              "      <td>92500</td>\n",
              "      <td>2789</td>\n",
              "      <td>209</td>\n",
              "      <td>1485</td>\n",
              "      <td>14.5</td>\n",
              "    </tr>\n",
              "    <tr>\n",
              "      <th>10</th>\n",
              "      <td>Opel Astra 1.6i 16V</td>\n",
              "      <td>25000</td>\n",
              "      <td>1597</td>\n",
              "      <td>74</td>\n",
              "      <td>1080</td>\n",
              "      <td>7.4</td>\n",
              "    </tr>\n",
              "    <tr>\n",
              "      <th>11</th>\n",
              "      <td>Peugeot 306 XS 108</td>\n",
              "      <td>22350</td>\n",
              "      <td>1761</td>\n",
              "      <td>74</td>\n",
              "      <td>1100</td>\n",
              "      <td>9.0</td>\n",
              "    </tr>\n",
              "    <tr>\n",
              "      <th>12</th>\n",
              "      <td>Renault Safrane 2.2. V</td>\n",
              "      <td>36600</td>\n",
              "      <td>2165</td>\n",
              "      <td>101</td>\n",
              "      <td>1500</td>\n",
              "      <td>11.7</td>\n",
              "    </tr>\n",
              "    <tr>\n",
              "      <th>13</th>\n",
              "      <td>Seat Ibiza 2.0 GTI</td>\n",
              "      <td>22500</td>\n",
              "      <td>1983</td>\n",
              "      <td>85</td>\n",
              "      <td>1075</td>\n",
              "      <td>9.5</td>\n",
              "    </tr>\n",
              "    <tr>\n",
              "      <th>14</th>\n",
              "      <td>VW Golt 2.0 GTI</td>\n",
              "      <td>31580</td>\n",
              "      <td>1984</td>\n",
              "      <td>85</td>\n",
              "      <td>1155</td>\n",
              "      <td>9.5</td>\n",
              "    </tr>\n",
              "    <tr>\n",
              "      <th>15</th>\n",
              "      <td>Citroen ZX Volcane</td>\n",
              "      <td>28750</td>\n",
              "      <td>1998</td>\n",
              "      <td>89</td>\n",
              "      <td>1140</td>\n",
              "      <td>8.8</td>\n",
              "    </tr>\n",
              "    <tr>\n",
              "      <th>16</th>\n",
              "      <td>Fiat Tempra 1.6 Liberty</td>\n",
              "      <td>22600</td>\n",
              "      <td>1580</td>\n",
              "      <td>65</td>\n",
              "      <td>1080</td>\n",
              "      <td>9.3</td>\n",
              "    </tr>\n",
              "    <tr>\n",
              "      <th>17</th>\n",
              "      <td>Fort Escort 1.4i PT</td>\n",
              "      <td>20300</td>\n",
              "      <td>1390</td>\n",
              "      <td>54</td>\n",
              "      <td>1110</td>\n",
              "      <td>8.6</td>\n",
              "    </tr>\n",
              "    <tr>\n",
              "      <th>18</th>\n",
              "      <td>Honda Civic Joker 1.4</td>\n",
              "      <td>19900</td>\n",
              "      <td>1396</td>\n",
              "      <td>66</td>\n",
              "      <td>1140</td>\n",
              "      <td>7.7</td>\n",
              "    </tr>\n",
              "    <tr>\n",
              "      <th>19</th>\n",
              "      <td>Volvo 850 2.5</td>\n",
              "      <td>39800</td>\n",
              "      <td>2435</td>\n",
              "      <td>106</td>\n",
              "      <td>1370</td>\n",
              "      <td>10.8</td>\n",
              "    </tr>\n",
              "    <tr>\n",
              "      <th>20</th>\n",
              "      <td>Ford Fiesta 1.2 Zetec</td>\n",
              "      <td>19740</td>\n",
              "      <td>1242</td>\n",
              "      <td>55</td>\n",
              "      <td>940</td>\n",
              "      <td>6.6</td>\n",
              "    </tr>\n",
              "    <tr>\n",
              "      <th>21</th>\n",
              "      <td>Hyundai Sonata 3000</td>\n",
              "      <td>38990</td>\n",
              "      <td>2972</td>\n",
              "      <td>107</td>\n",
              "      <td>1400</td>\n",
              "      <td>11.7</td>\n",
              "    </tr>\n",
              "    <tr>\n",
              "      <th>22</th>\n",
              "      <td>Lancia K 3.0 LS</td>\n",
              "      <td>50800</td>\n",
              "      <td>2958</td>\n",
              "      <td>150</td>\n",
              "      <td>1550</td>\n",
              "      <td>11.9</td>\n",
              "    </tr>\n",
              "    <tr>\n",
              "      <th>23</th>\n",
              "      <td>Mazda Hachtback V</td>\n",
              "      <td>36200</td>\n",
              "      <td>2497</td>\n",
              "      <td>122</td>\n",
              "      <td>1330</td>\n",
              "      <td>10.8</td>\n",
              "    </tr>\n",
              "    <tr>\n",
              "      <th>24</th>\n",
              "      <td>Mitsubishi Galant</td>\n",
              "      <td>31990</td>\n",
              "      <td>1998</td>\n",
              "      <td>66</td>\n",
              "      <td>1300</td>\n",
              "      <td>7.6</td>\n",
              "    </tr>\n",
              "    <tr>\n",
              "      <th>25</th>\n",
              "      <td>Opel Omega 2.5i V6</td>\n",
              "      <td>47700</td>\n",
              "      <td>2496</td>\n",
              "      <td>125</td>\n",
              "      <td>1670</td>\n",
              "      <td>11.3</td>\n",
              "    </tr>\n",
              "    <tr>\n",
              "      <th>26</th>\n",
              "      <td>Peugeot 806 2.0</td>\n",
              "      <td>36950</td>\n",
              "      <td>1998</td>\n",
              "      <td>89</td>\n",
              "      <td>1560</td>\n",
              "      <td>10.8</td>\n",
              "    </tr>\n",
              "    <tr>\n",
              "      <th>27</th>\n",
              "      <td>Nissan Primera 2.0</td>\n",
              "      <td>26950</td>\n",
              "      <td>1997</td>\n",
              "      <td>92</td>\n",
              "      <td>1240</td>\n",
              "      <td>9.2</td>\n",
              "    </tr>\n",
              "    <tr>\n",
              "      <th>28</th>\n",
              "      <td>Seat Alhambra 2.0</td>\n",
              "      <td>36400</td>\n",
              "      <td>1984</td>\n",
              "      <td>85</td>\n",
              "      <td>1635</td>\n",
              "      <td>11.6</td>\n",
              "    </tr>\n",
              "    <tr>\n",
              "      <th>29</th>\n",
              "      <td>Toyota Previa salon</td>\n",
              "      <td>50900</td>\n",
              "      <td>2438</td>\n",
              "      <td>97</td>\n",
              "      <td>1800</td>\n",
              "      <td>12.8</td>\n",
              "    </tr>\n",
              "    <tr>\n",
              "      <th>30</th>\n",
              "      <td>Volvo 960 Kombi aut</td>\n",
              "      <td>49300</td>\n",
              "      <td>2473</td>\n",
              "      <td>125</td>\n",
              "      <td>1570</td>\n",
              "      <td>12.7</td>\n",
              "    </tr>\n",
              "  </tbody>\n",
              "</table>\n",
              "</div>\n",
              "      <button class=\"colab-df-convert\" onclick=\"convertToInteractive('df-72fbdb65-6487-44b7-a858-3a96478b4ed4')\"\n",
              "              title=\"Convert this dataframe to an interactive table.\"\n",
              "              style=\"display:none;\">\n",
              "        \n",
              "  <svg xmlns=\"http://www.w3.org/2000/svg\" height=\"24px\"viewBox=\"0 0 24 24\"\n",
              "       width=\"24px\">\n",
              "    <path d=\"M0 0h24v24H0V0z\" fill=\"none\"/>\n",
              "    <path d=\"M18.56 5.44l.94 2.06.94-2.06 2.06-.94-2.06-.94-.94-2.06-.94 2.06-2.06.94zm-11 1L8.5 8.5l.94-2.06 2.06-.94-2.06-.94L8.5 2.5l-.94 2.06-2.06.94zm10 10l.94 2.06.94-2.06 2.06-.94-2.06-.94-.94-2.06-.94 2.06-2.06.94z\"/><path d=\"M17.41 7.96l-1.37-1.37c-.4-.4-.92-.59-1.43-.59-.52 0-1.04.2-1.43.59L10.3 9.45l-7.72 7.72c-.78.78-.78 2.05 0 2.83L4 21.41c.39.39.9.59 1.41.59.51 0 1.02-.2 1.41-.59l7.78-7.78 2.81-2.81c.8-.78.8-2.07 0-2.86zM5.41 20L4 18.59l7.72-7.72 1.47 1.35L5.41 20z\"/>\n",
              "  </svg>\n",
              "      </button>\n",
              "      \n",
              "  <style>\n",
              "    .colab-df-container {\n",
              "      display:flex;\n",
              "      flex-wrap:wrap;\n",
              "      gap: 12px;\n",
              "    }\n",
              "\n",
              "    .colab-df-convert {\n",
              "      background-color: #E8F0FE;\n",
              "      border: none;\n",
              "      border-radius: 50%;\n",
              "      cursor: pointer;\n",
              "      display: none;\n",
              "      fill: #1967D2;\n",
              "      height: 32px;\n",
              "      padding: 0 0 0 0;\n",
              "      width: 32px;\n",
              "    }\n",
              "\n",
              "    .colab-df-convert:hover {\n",
              "      background-color: #E2EBFA;\n",
              "      box-shadow: 0px 1px 2px rgba(60, 64, 67, 0.3), 0px 1px 3px 1px rgba(60, 64, 67, 0.15);\n",
              "      fill: #174EA6;\n",
              "    }\n",
              "\n",
              "    [theme=dark] .colab-df-convert {\n",
              "      background-color: #3B4455;\n",
              "      fill: #D2E3FC;\n",
              "    }\n",
              "\n",
              "    [theme=dark] .colab-df-convert:hover {\n",
              "      background-color: #434B5C;\n",
              "      box-shadow: 0px 1px 3px 1px rgba(0, 0, 0, 0.15);\n",
              "      filter: drop-shadow(0px 1px 2px rgba(0, 0, 0, 0.3));\n",
              "      fill: #FFFFFF;\n",
              "    }\n",
              "  </style>\n",
              "\n",
              "      <script>\n",
              "        const buttonEl =\n",
              "          document.querySelector('#df-72fbdb65-6487-44b7-a858-3a96478b4ed4 button.colab-df-convert');\n",
              "        buttonEl.style.display =\n",
              "          google.colab.kernel.accessAllowed ? 'block' : 'none';\n",
              "\n",
              "        async function convertToInteractive(key) {\n",
              "          const element = document.querySelector('#df-72fbdb65-6487-44b7-a858-3a96478b4ed4');\n",
              "          const dataTable =\n",
              "            await google.colab.kernel.invokeFunction('convertToInteractive',\n",
              "                                                     [key], {});\n",
              "          if (!dataTable) return;\n",
              "\n",
              "          const docLinkHtml = 'Like what you see? Visit the ' +\n",
              "            '<a target=\"_blank\" href=https://colab.research.google.com/notebooks/data_table.ipynb>data table notebook</a>'\n",
              "            + ' to learn more about interactive tables.';\n",
              "          element.innerHTML = '';\n",
              "          dataTable['output_type'] = 'display_data';\n",
              "          await google.colab.output.renderOutput(dataTable, element);\n",
              "          const docLink = document.createElement('div');\n",
              "          docLink.innerHTML = docLinkHtml;\n",
              "          element.appendChild(docLink);\n",
              "        }\n",
              "      </script>\n",
              "    </div>\n",
              "  </div>\n",
              "  "
            ]
          },
          "metadata": {},
          "execution_count": 11
        }
      ]
    },
    {
      "cell_type": "code",
      "source": [
        "dataset.isnull().sum()"
      ],
      "metadata": {
        "id": "gcQG0LQTIdxg"
      },
      "execution_count": null,
      "outputs": []
    },
    {
      "cell_type": "code",
      "source": [
        "dataset.shape"
      ],
      "metadata": {
        "colab": {
          "base_uri": "https://localhost:8080/"
        },
        "id": "ZdcaulujItyR",
        "outputId": "b8a46ec6-9fa0-4d7b-9a59-18d2f421d83e"
      },
      "execution_count": null,
      "outputs": [
        {
          "output_type": "execute_result",
          "data": {
            "text/plain": [
              "(31, 6)"
            ]
          },
          "metadata": {},
          "execution_count": 6
        }
      ]
    },
    {
      "cell_type": "code",
      "source": [
        "dataset.info()"
      ],
      "metadata": {
        "id": "KinpOs2_Ixj0"
      },
      "execution_count": null,
      "outputs": []
    },
    {
      "cell_type": "code",
      "source": [
        "dataset.describe()"
      ],
      "metadata": {
        "colab": {
          "base_uri": "https://localhost:8080/",
          "height": 300
        },
        "id": "-4ANwQSCIxvA",
        "outputId": "452e6f32-861f-46f5-df05-bbdc038e35ed"
      },
      "execution_count": null,
      "outputs": [
        {
          "output_type": "execute_result",
          "data": {
            "text/plain": [
              "                prix    cylindree   puissance       poids       conso\n",
              "count      31.000000    31.000000   31.000000    31.000000  31.000000\n",
              "mean    43755.645161  2093.677419   97.096774  1256.129032   9.954839\n",
              "std     55065.257963  1152.356582   69.340875   360.753170   3.569018\n",
              "min     10450.000000   658.000000   29.000000   650.000000   5.700000\n",
              "25%     19820.000000  1390.000000   55.000000  1042.500000   7.250000\n",
              "50%     28750.000000  1984.000000   85.000000  1155.000000   9.300000\n",
              "75%     39395.000000  2455.500000  106.500000  1525.000000  11.650000\n",
              "max    285000.000000  5987.000000  325.000000  2250.000000  21.300000"
            ],
            "text/html": [
              "\n",
              "  <div id=\"df-4afd779a-d077-4bc4-89e9-abe7b7925188\">\n",
              "    <div class=\"colab-df-container\">\n",
              "      <div>\n",
              "<style scoped>\n",
              "    .dataframe tbody tr th:only-of-type {\n",
              "        vertical-align: middle;\n",
              "    }\n",
              "\n",
              "    .dataframe tbody tr th {\n",
              "        vertical-align: top;\n",
              "    }\n",
              "\n",
              "    .dataframe thead th {\n",
              "        text-align: right;\n",
              "    }\n",
              "</style>\n",
              "<table border=\"1\" class=\"dataframe\">\n",
              "  <thead>\n",
              "    <tr style=\"text-align: right;\">\n",
              "      <th></th>\n",
              "      <th>prix</th>\n",
              "      <th>cylindree</th>\n",
              "      <th>puissance</th>\n",
              "      <th>poids</th>\n",
              "      <th>conso</th>\n",
              "    </tr>\n",
              "  </thead>\n",
              "  <tbody>\n",
              "    <tr>\n",
              "      <th>count</th>\n",
              "      <td>31.000000</td>\n",
              "      <td>31.000000</td>\n",
              "      <td>31.000000</td>\n",
              "      <td>31.000000</td>\n",
              "      <td>31.000000</td>\n",
              "    </tr>\n",
              "    <tr>\n",
              "      <th>mean</th>\n",
              "      <td>43755.645161</td>\n",
              "      <td>2093.677419</td>\n",
              "      <td>97.096774</td>\n",
              "      <td>1256.129032</td>\n",
              "      <td>9.954839</td>\n",
              "    </tr>\n",
              "    <tr>\n",
              "      <th>std</th>\n",
              "      <td>55065.257963</td>\n",
              "      <td>1152.356582</td>\n",
              "      <td>69.340875</td>\n",
              "      <td>360.753170</td>\n",
              "      <td>3.569018</td>\n",
              "    </tr>\n",
              "    <tr>\n",
              "      <th>min</th>\n",
              "      <td>10450.000000</td>\n",
              "      <td>658.000000</td>\n",
              "      <td>29.000000</td>\n",
              "      <td>650.000000</td>\n",
              "      <td>5.700000</td>\n",
              "    </tr>\n",
              "    <tr>\n",
              "      <th>25%</th>\n",
              "      <td>19820.000000</td>\n",
              "      <td>1390.000000</td>\n",
              "      <td>55.000000</td>\n",
              "      <td>1042.500000</td>\n",
              "      <td>7.250000</td>\n",
              "    </tr>\n",
              "    <tr>\n",
              "      <th>50%</th>\n",
              "      <td>28750.000000</td>\n",
              "      <td>1984.000000</td>\n",
              "      <td>85.000000</td>\n",
              "      <td>1155.000000</td>\n",
              "      <td>9.300000</td>\n",
              "    </tr>\n",
              "    <tr>\n",
              "      <th>75%</th>\n",
              "      <td>39395.000000</td>\n",
              "      <td>2455.500000</td>\n",
              "      <td>106.500000</td>\n",
              "      <td>1525.000000</td>\n",
              "      <td>11.650000</td>\n",
              "    </tr>\n",
              "    <tr>\n",
              "      <th>max</th>\n",
              "      <td>285000.000000</td>\n",
              "      <td>5987.000000</td>\n",
              "      <td>325.000000</td>\n",
              "      <td>2250.000000</td>\n",
              "      <td>21.300000</td>\n",
              "    </tr>\n",
              "  </tbody>\n",
              "</table>\n",
              "</div>\n",
              "      <button class=\"colab-df-convert\" onclick=\"convertToInteractive('df-4afd779a-d077-4bc4-89e9-abe7b7925188')\"\n",
              "              title=\"Convert this dataframe to an interactive table.\"\n",
              "              style=\"display:none;\">\n",
              "        \n",
              "  <svg xmlns=\"http://www.w3.org/2000/svg\" height=\"24px\"viewBox=\"0 0 24 24\"\n",
              "       width=\"24px\">\n",
              "    <path d=\"M0 0h24v24H0V0z\" fill=\"none\"/>\n",
              "    <path d=\"M18.56 5.44l.94 2.06.94-2.06 2.06-.94-2.06-.94-.94-2.06-.94 2.06-2.06.94zm-11 1L8.5 8.5l.94-2.06 2.06-.94-2.06-.94L8.5 2.5l-.94 2.06-2.06.94zm10 10l.94 2.06.94-2.06 2.06-.94-2.06-.94-.94-2.06-.94 2.06-2.06.94z\"/><path d=\"M17.41 7.96l-1.37-1.37c-.4-.4-.92-.59-1.43-.59-.52 0-1.04.2-1.43.59L10.3 9.45l-7.72 7.72c-.78.78-.78 2.05 0 2.83L4 21.41c.39.39.9.59 1.41.59.51 0 1.02-.2 1.41-.59l7.78-7.78 2.81-2.81c.8-.78.8-2.07 0-2.86zM5.41 20L4 18.59l7.72-7.72 1.47 1.35L5.41 20z\"/>\n",
              "  </svg>\n",
              "      </button>\n",
              "      \n",
              "  <style>\n",
              "    .colab-df-container {\n",
              "      display:flex;\n",
              "      flex-wrap:wrap;\n",
              "      gap: 12px;\n",
              "    }\n",
              "\n",
              "    .colab-df-convert {\n",
              "      background-color: #E8F0FE;\n",
              "      border: none;\n",
              "      border-radius: 50%;\n",
              "      cursor: pointer;\n",
              "      display: none;\n",
              "      fill: #1967D2;\n",
              "      height: 32px;\n",
              "      padding: 0 0 0 0;\n",
              "      width: 32px;\n",
              "    }\n",
              "\n",
              "    .colab-df-convert:hover {\n",
              "      background-color: #E2EBFA;\n",
              "      box-shadow: 0px 1px 2px rgba(60, 64, 67, 0.3), 0px 1px 3px 1px rgba(60, 64, 67, 0.15);\n",
              "      fill: #174EA6;\n",
              "    }\n",
              "\n",
              "    [theme=dark] .colab-df-convert {\n",
              "      background-color: #3B4455;\n",
              "      fill: #D2E3FC;\n",
              "    }\n",
              "\n",
              "    [theme=dark] .colab-df-convert:hover {\n",
              "      background-color: #434B5C;\n",
              "      box-shadow: 0px 1px 3px 1px rgba(0, 0, 0, 0.15);\n",
              "      filter: drop-shadow(0px 1px 2px rgba(0, 0, 0, 0.3));\n",
              "      fill: #FFFFFF;\n",
              "    }\n",
              "  </style>\n",
              "\n",
              "      <script>\n",
              "        const buttonEl =\n",
              "          document.querySelector('#df-4afd779a-d077-4bc4-89e9-abe7b7925188 button.colab-df-convert');\n",
              "        buttonEl.style.display =\n",
              "          google.colab.kernel.accessAllowed ? 'block' : 'none';\n",
              "\n",
              "        async function convertToInteractive(key) {\n",
              "          const element = document.querySelector('#df-4afd779a-d077-4bc4-89e9-abe7b7925188');\n",
              "          const dataTable =\n",
              "            await google.colab.kernel.invokeFunction('convertToInteractive',\n",
              "                                                     [key], {});\n",
              "          if (!dataTable) return;\n",
              "\n",
              "          const docLinkHtml = 'Like what you see? Visit the ' +\n",
              "            '<a target=\"_blank\" href=https://colab.research.google.com/notebooks/data_table.ipynb>data table notebook</a>'\n",
              "            + ' to learn more about interactive tables.';\n",
              "          element.innerHTML = '';\n",
              "          dataTable['output_type'] = 'display_data';\n",
              "          await google.colab.output.renderOutput(dataTable, element);\n",
              "          const docLink = document.createElement('div');\n",
              "          docLink.innerHTML = docLinkHtml;\n",
              "          element.appendChild(docLink);\n",
              "        }\n",
              "      </script>\n",
              "    </div>\n",
              "  </div>\n",
              "  "
            ]
          },
          "metadata": {},
          "execution_count": 8
        }
      ]
    },
    {
      "cell_type": "code",
      "source": [
        "print (dataset.shape[1])\n"
      ],
      "metadata": {
        "colab": {
          "base_uri": "https://localhost:8080/"
        },
        "id": "Wta2qYCEJVFZ",
        "outputId": "70062c8d-b5dc-4517-9b4f-2e27af1113ba"
      },
      "execution_count": null,
      "outputs": [
        {
          "output_type": "stream",
          "name": "stdout",
          "text": [
            "6\n"
          ]
        }
      ]
    },
    {
      "cell_type": "code",
      "source": [
        "print(len(dataset['modele'].unique()))"
      ],
      "metadata": {
        "colab": {
          "base_uri": "https://localhost:8080/"
        },
        "id": "qyVB16NtJmi7",
        "outputId": "3b72a82c-df4e-4e82-8d0c-b3449b5ebb1f"
      },
      "execution_count": null,
      "outputs": [
        {
          "output_type": "stream",
          "name": "stdout",
          "text": [
            "31\n"
          ]
        }
      ]
    },
    {
      "cell_type": "code",
      "source": [
        "dataset['modele'] = pd.factorize(dataset['modele'])[0]\n",
        "dataset['modele']"
      ],
      "metadata": {
        "id": "ReyfwmWiKFO7"
      },
      "execution_count": null,
      "outputs": []
    },
    {
      "cell_type": "code",
      "source": [
        "dataset.head()"
      ],
      "metadata": {
        "colab": {
          "base_uri": "https://localhost:8080/",
          "height": 206
        },
        "id": "0NhBMmecKh3r",
        "outputId": "3a77bab7-773a-4abf-cda0-75234219eca6"
      },
      "execution_count": null,
      "outputs": [
        {
          "output_type": "execute_result",
          "data": {
            "text/plain": [
              "   modele   prix  cylindree  puissance  poids   conso\n",
              "0       0  11600        846         32     650    5.7\n",
              "1       1  12490        993         39     790    5.8\n",
              "2       2  10450        899         29     730    6.1\n",
              "3       3  17140       1390         44     955    6.5\n",
              "4       4  14825       1195         33     895    6.8"
            ],
            "text/html": [
              "\n",
              "  <div id=\"df-57b817e0-531d-4bd4-ab00-424a9e029fa2\">\n",
              "    <div class=\"colab-df-container\">\n",
              "      <div>\n",
              "<style scoped>\n",
              "    .dataframe tbody tr th:only-of-type {\n",
              "        vertical-align: middle;\n",
              "    }\n",
              "\n",
              "    .dataframe tbody tr th {\n",
              "        vertical-align: top;\n",
              "    }\n",
              "\n",
              "    .dataframe thead th {\n",
              "        text-align: right;\n",
              "    }\n",
              "</style>\n",
              "<table border=\"1\" class=\"dataframe\">\n",
              "  <thead>\n",
              "    <tr style=\"text-align: right;\">\n",
              "      <th></th>\n",
              "      <th>modele</th>\n",
              "      <th>prix</th>\n",
              "      <th>cylindree</th>\n",
              "      <th>puissance</th>\n",
              "      <th>poids</th>\n",
              "      <th>conso</th>\n",
              "    </tr>\n",
              "  </thead>\n",
              "  <tbody>\n",
              "    <tr>\n",
              "      <th>0</th>\n",
              "      <td>0</td>\n",
              "      <td>11600</td>\n",
              "      <td>846</td>\n",
              "      <td>32</td>\n",
              "      <td>650</td>\n",
              "      <td>5.7</td>\n",
              "    </tr>\n",
              "    <tr>\n",
              "      <th>1</th>\n",
              "      <td>1</td>\n",
              "      <td>12490</td>\n",
              "      <td>993</td>\n",
              "      <td>39</td>\n",
              "      <td>790</td>\n",
              "      <td>5.8</td>\n",
              "    </tr>\n",
              "    <tr>\n",
              "      <th>2</th>\n",
              "      <td>2</td>\n",
              "      <td>10450</td>\n",
              "      <td>899</td>\n",
              "      <td>29</td>\n",
              "      <td>730</td>\n",
              "      <td>6.1</td>\n",
              "    </tr>\n",
              "    <tr>\n",
              "      <th>3</th>\n",
              "      <td>3</td>\n",
              "      <td>17140</td>\n",
              "      <td>1390</td>\n",
              "      <td>44</td>\n",
              "      <td>955</td>\n",
              "      <td>6.5</td>\n",
              "    </tr>\n",
              "    <tr>\n",
              "      <th>4</th>\n",
              "      <td>4</td>\n",
              "      <td>14825</td>\n",
              "      <td>1195</td>\n",
              "      <td>33</td>\n",
              "      <td>895</td>\n",
              "      <td>6.8</td>\n",
              "    </tr>\n",
              "  </tbody>\n",
              "</table>\n",
              "</div>\n",
              "      <button class=\"colab-df-convert\" onclick=\"convertToInteractive('df-57b817e0-531d-4bd4-ab00-424a9e029fa2')\"\n",
              "              title=\"Convert this dataframe to an interactive table.\"\n",
              "              style=\"display:none;\">\n",
              "        \n",
              "  <svg xmlns=\"http://www.w3.org/2000/svg\" height=\"24px\"viewBox=\"0 0 24 24\"\n",
              "       width=\"24px\">\n",
              "    <path d=\"M0 0h24v24H0V0z\" fill=\"none\"/>\n",
              "    <path d=\"M18.56 5.44l.94 2.06.94-2.06 2.06-.94-2.06-.94-.94-2.06-.94 2.06-2.06.94zm-11 1L8.5 8.5l.94-2.06 2.06-.94-2.06-.94L8.5 2.5l-.94 2.06-2.06.94zm10 10l.94 2.06.94-2.06 2.06-.94-2.06-.94-.94-2.06-.94 2.06-2.06.94z\"/><path d=\"M17.41 7.96l-1.37-1.37c-.4-.4-.92-.59-1.43-.59-.52 0-1.04.2-1.43.59L10.3 9.45l-7.72 7.72c-.78.78-.78 2.05 0 2.83L4 21.41c.39.39.9.59 1.41.59.51 0 1.02-.2 1.41-.59l7.78-7.78 2.81-2.81c.8-.78.8-2.07 0-2.86zM5.41 20L4 18.59l7.72-7.72 1.47 1.35L5.41 20z\"/>\n",
              "  </svg>\n",
              "      </button>\n",
              "      \n",
              "  <style>\n",
              "    .colab-df-container {\n",
              "      display:flex;\n",
              "      flex-wrap:wrap;\n",
              "      gap: 12px;\n",
              "    }\n",
              "\n",
              "    .colab-df-convert {\n",
              "      background-color: #E8F0FE;\n",
              "      border: none;\n",
              "      border-radius: 50%;\n",
              "      cursor: pointer;\n",
              "      display: none;\n",
              "      fill: #1967D2;\n",
              "      height: 32px;\n",
              "      padding: 0 0 0 0;\n",
              "      width: 32px;\n",
              "    }\n",
              "\n",
              "    .colab-df-convert:hover {\n",
              "      background-color: #E2EBFA;\n",
              "      box-shadow: 0px 1px 2px rgba(60, 64, 67, 0.3), 0px 1px 3px 1px rgba(60, 64, 67, 0.15);\n",
              "      fill: #174EA6;\n",
              "    }\n",
              "\n",
              "    [theme=dark] .colab-df-convert {\n",
              "      background-color: #3B4455;\n",
              "      fill: #D2E3FC;\n",
              "    }\n",
              "\n",
              "    [theme=dark] .colab-df-convert:hover {\n",
              "      background-color: #434B5C;\n",
              "      box-shadow: 0px 1px 3px 1px rgba(0, 0, 0, 0.15);\n",
              "      filter: drop-shadow(0px 1px 2px rgba(0, 0, 0, 0.3));\n",
              "      fill: #FFFFFF;\n",
              "    }\n",
              "  </style>\n",
              "\n",
              "      <script>\n",
              "        const buttonEl =\n",
              "          document.querySelector('#df-57b817e0-531d-4bd4-ab00-424a9e029fa2 button.colab-df-convert');\n",
              "        buttonEl.style.display =\n",
              "          google.colab.kernel.accessAllowed ? 'block' : 'none';\n",
              "\n",
              "        async function convertToInteractive(key) {\n",
              "          const element = document.querySelector('#df-57b817e0-531d-4bd4-ab00-424a9e029fa2');\n",
              "          const dataTable =\n",
              "            await google.colab.kernel.invokeFunction('convertToInteractive',\n",
              "                                                     [key], {});\n",
              "          if (!dataTable) return;\n",
              "\n",
              "          const docLinkHtml = 'Like what you see? Visit the ' +\n",
              "            '<a target=\"_blank\" href=https://colab.research.google.com/notebooks/data_table.ipynb>data table notebook</a>'\n",
              "            + ' to learn more about interactive tables.';\n",
              "          element.innerHTML = '';\n",
              "          dataTable['output_type'] = 'display_data';\n",
              "          await google.colab.output.renderOutput(dataTable, element);\n",
              "          const docLink = document.createElement('div');\n",
              "          docLink.innerHTML = docLinkHtml;\n",
              "          element.appendChild(docLink);\n",
              "        }\n",
              "      </script>\n",
              "    </div>\n",
              "  </div>\n",
              "  "
            ]
          },
          "metadata": {},
          "execution_count": 14
        }
      ]
    },
    {
      "cell_type": "code",
      "source": [
        "sns.heatmap(dataset.corr(), annot=True)\n"
      ],
      "metadata": {
        "colab": {
          "base_uri": "https://localhost:8080/",
          "height": 509
        },
        "id": "9FgK7xdqLek0",
        "outputId": "7606fe6d-ba58-4d67-84a2-c4b835ca7629"
      },
      "execution_count": null,
      "outputs": [
        {
          "output_type": "execute_result",
          "data": {
            "text/plain": [
              "<Axes: >"
            ]
          },
          "metadata": {},
          "execution_count": 15
        },
        {
          "output_type": "display_data",
          "data": {
            "text/plain": [
              "<Figure size 640x480 with 2 Axes>"
            ],
            "image/png": "[encoded data removed]"
          },
          "metadata": {}
        }
      ]
    },
    {
      "cell_type": "code",
      "source": [
        "feature_names = ['prix', 'cylindree', 'puissance']\n",
        "X = dataset[feature_names]\n",
        "y=dataset['conso']\n",
        "X"
      ],
      "metadata": {
        "id": "NeZ8lADJMGtN"
      },
      "execution_count": null,
      "outputs": []
    },
    {
      "cell_type": "code",
      "source": [
        "from sklearn import datasets, linear_model\n",
        "from sklearn.model_selection import train_test_split\n",
        "X_train, X_test, y_train, y_test = train_test_split(X, y, test_size=0.3,random_state=42)"
      ],
      "metadata": {
        "id": "JzZDLCmaMMAm"
      },
      "execution_count": null,
      "outputs": []
    },
    {
      "cell_type": "code",
      "source": [
        "print(\"x_train.\", X_train.shape)\n",
        "print(\"x_test.\", X_test.shape)\n",
        "print(\"y_train.\", y_train.shape)\n",
        "print(\"y_test.\", y_test.shape)"
      ],
      "metadata": {
        "colab": {
          "base_uri": "https://localhost:8080/"
        },
        "id": "m7YkSAZyMMLY",
        "outputId": "bf6f81e5-8cb8-4bb8-9b5a-1aafecfceab7"
      },
      "execution_count": null,
      "outputs": [
        {
          "output_type": "stream",
          "name": "stdout",
          "text": [
            "x_train. (21, 3)\n",
            "x_test. (10, 3)\n",
            "y_train. (21,)\n",
            "y_test. (10,)\n"
          ]
        }
      ]
    },
    {
      "cell_type": "code",
      "source": [
        "plt.plot(X['puissance'], y, 'bo')\n"
      ],
      "metadata": {
        "id": "rQPXXF5ON0RM"
      },
      "execution_count": null,
      "outputs": []
    },
    {
      "cell_type": "code",
      "source": [
        "lm = linear_model.LinearRegression()  #build our model\n",
        "model = lm.fit(X_train, y_train)   #fitting our data\n",
        "predictions = model.predict(X_test)   #testing our model's performance"
      ],
      "metadata": {
        "id": "4E2ytfSXO5Cp"
      },
      "execution_count": null,
      "outputs": []
    },
    {
      "cell_type": "code",
      "source": [
        "predictions[0:10]"
      ],
      "metadata": {
        "colab": {
          "base_uri": "https://localhost:8080/"
        },
        "id": "Om9Z8OZ9O8fk",
        "outputId": "e0b7f0f4-10ba-45b8-dfd9-c2e006dcd831"
      },
      "execution_count": null,
      "outputs": [
        {
          "output_type": "execute_result",
          "data": {
            "text/plain": [
              "array([ 9.76126212,  9.68441195, 11.41843606,  7.70025505, 22.02457687,\n",
              "       14.0115913 , 10.65365616,  9.10351821, 10.27716665,  6.15987002])"
            ]
          },
          "metadata": {},
          "execution_count": 22
        }
      ]
    },
    {
      "cell_type": "code",
      "source": [
        "y_test[0:10]"
      ],
      "metadata": {
        "colab": {
          "base_uri": "https://localhost:8080/"
        },
        "id": "E7zPJrnJP9Cb",
        "outputId": "bf36321f-2019-4b1d-a2ea-7a568f91c509"
      },
      "execution_count": null,
      "outputs": [
        {
          "output_type": "execute_result",
          "data": {
            "text/plain": [
              "27     9.2\n",
              "15     8.8\n",
              "23    10.8\n",
              "17     8.6\n",
              "8     18.7\n",
              "9     14.5\n",
              "29    12.8\n",
              "24     7.6\n",
              "12    11.7\n",
              "0      5.7\n",
              "Name: conso, dtype: float64"
            ]
          },
          "metadata": {},
          "execution_count": 23
        }
      ]
    },
    {
      "cell_type": "code",
      "source": [
        "## The line / model\n",
        "plt.scatter(y_test, predictions)\n",
        "plt.xlabel(\"TrueValues\")\n",
        "plt.ylabel(\"Predictions\")\n",
        "plt.show()"
      ],
      "metadata": {
        "id": "03lwPUDnQobK"
      },
      "execution_count": null,
      "outputs": []
    },
    {
      "cell_type": "code",
      "source": [
        "print(\"MSE\", mean_squared_error(y_test,predictions))\n",
        "print(\"R squared\", metrics.r2_score(y_test,predictions))"
      ],
      "metadata": {
        "colab": {
          "base_uri": "https://localhost:8080/"
        },
        "id": "6FviFNzTRc66",
        "outputId": "03ee256c-a324-42bf-ef88-ca1d16552078"
      },
      "execution_count": null,
      "outputs": [
        {
          "output_type": "stream",
          "name": "stdout",
          "text": [
            "MSE 2.2683852335517196\n",
            "R squared 0.8235323909671615\n"
          ]
        }
      ]
    },
    {
      "cell_type": "markdown",
      "source": [
        "# Polynomial regression"
      ],
      "metadata": {
        "id": "S6ZFgd5CRxKp"
      }
    },
    {
      "cell_type": "code",
      "source": [
        "from sklearn.preprocessing import PolynomialFeatures\n",
        "from sklearn.linear_model import LinearRegression"
      ],
      "metadata": {
        "id": "vMm19VzpRjho"
      },
      "execution_count": null,
      "outputs": []
    },
    {
      "cell_type": "code",
      "source": [
        "lg=linear_model.LinearRegression()\n",
        "poly=PolynomialFeatures(degree=3)"
      ],
      "metadata": {
        "id": "uvzsuSYDSHg-"
      },
      "execution_count": null,
      "outputs": []
    },
    {
      "cell_type": "code",
      "source": [
        "x_train_fit = poly.fit_transform(X_train) #transforming our input data\n",
        "lg.fit(x_train_fit, y_train)\n",
        "X_test_=np.array(list(X_test))\n",
        "x_test_ = poly.fit_transform(X_test)\n",
        "\n",
        "predicted = lg.predict(x_test_)\n",
        "print(\"MSE: \", metrics.mean_squared_error(y_test, predicted))\n",
        "print(\"R squared: \", metrics.r2_score(y_test,predicted))"
      ],
      "metadata": {
        "colab": {
          "base_uri": "https://localhost:8080/"
        },
        "id": "i6_QP59fSUnn",
        "outputId": "2d5a08df-3a23-4a8b-a719-8a3cf1cca72e"
      },
      "execution_count": null,
      "outputs": [
        {
          "output_type": "stream",
          "name": "stdout",
          "text": [
            "MSE:  1714192.4321748544\n",
            "R squared:  -133353.52702380932\n"
          ]
        }
      ]
    },
    {
      "cell_type": "code",
      "source": [
        "lg=LinearRegression()\n",
        "poly=PolynomialFeatures(degree=2)\n",
        "x_train_fit = poly.fit_transform(X_train) #transforming our input data\n",
        "lg.fit(x_train_fit, y_train)\n",
        "x_test_ = poly.fit_transform(X_test)\n",
        "predicted = lg.predict(x_test_)\n",
        "print(\"MSE: \", metrics.mean_squared_error(y_test, predicted))\n",
        "print(\"R squared: \", metrics.r2_score(y_test,predicted))"
      ],
      "metadata": {
        "colab": {
          "base_uri": "https://localhost:8080/"
        },
        "id": "U98hDxe0ULuv",
        "outputId": "fd0710cc-a4cd-460c-fc0b-0806b9d7212c"
      },
      "execution_count": null,
      "outputs": [
        {
          "output_type": "stream",
          "name": "stdout",
          "text": [
            "MSE:  214.05569697966644\n",
            "R squared:  -15.652328928589935\n"
          ]
        }
      ]
    },
    {
      "cell_type": "code",
      "source": [
        "print(y_test)\n",
        "print(predicted)"
      ],
      "metadata": {
        "colab": {
          "base_uri": "https://localhost:8080/"
        },
        "id": "a_f1RUc8WXzg",
        "outputId": "8b7fbbe1-c5d6-4f4d-c897-dfaeac67cce6"
      },
      "execution_count": null,
      "outputs": [
        {
          "output_type": "stream",
          "name": "stdout",
          "text": [
            "27     9.2\n",
            "15     8.8\n",
            "23    10.8\n",
            "17     8.6\n",
            "8     18.7\n",
            "9     14.5\n",
            "29    12.8\n",
            "24     7.6\n",
            "12    11.7\n",
            "0      5.7\n",
            "Name: conso, dtype: float64\n",
            "[  9.15112464   9.65752018  10.66753847   7.95280904 -27.44538305\n",
            "  14.719684     9.90698529   8.30713009  10.67584466   5.84049528]\n"
          ]
        }
      ]
    },
    {
      "cell_type": "code",
      "source": [
        "## The line / model\n",
        "from matplotlib import pyplot as plt\n",
        "plt.scatter(y_test, predicted)\n",
        "plt.xlabel(\"TrueValues\")\n",
        "plt.ylabel(\"Predictions\")\n",
        "plt.show()"
      ],
      "metadata": {
        "colab": {
          "base_uri": "https://localhost:8080/",
          "height": 449
        },
        "id": "J90zkXl1VuPV",
        "outputId": "21e68f82-47fa-4286-f4e5-eaf602a0a54f"
      },
      "execution_count": null,
      "outputs": [
        {
          "output_type": "display_data",
          "data": {
            "text/plain": [
              "<Figure size 640x480 with 1 Axes>"
            ],
            "image/png": "[encoded data removed]"
          },
          "metadata": {}
        }
      ]
    }
  ]
}