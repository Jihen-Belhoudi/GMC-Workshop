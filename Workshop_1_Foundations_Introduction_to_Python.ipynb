{
  "cells": [
    {
      "cell_type": "markdown",
      "source": [
        "#**Introduction to Python - Workshop 1 - Foundation**"
      ],
      "metadata": {
        "id": "aDCHRHfwpM2C"
      }
    },
    {
      "cell_type": "markdown",
      "metadata": {
        "id": "kUGt4PYsNvIT"
      },
      "source": [
        "## **Objectives**\n",
        "\n",
        "\n",
        "* **Hands-on**\n",
        " * Syntax\n",
        " * Operators\n",
        " * Strings\n",
        " * Lists\n",
        " * Tuples\n",
        "\n"
      ]
    },
    {
      "cell_type": "markdown",
      "metadata": {
        "id": "WWyeRc02NvIY"
      },
      "source": [
        "## **Introduction**\n",
        "* Developed in early 90’s by **Guido Van Rossum**\n",
        "\n",
        "### **What is Python**\n",
        "* General purpose,\n",
        " * *High Level*\n",
        " * *Interpreted*\n",
        " * *Object-oriented Language*\n",
        "\n",
        "* Simple, Portable, Open source & Powerful\n",
        "\n",
        "### **Ways to run Python**\n",
        "* Local run - on personal PC\n",
        "* Web-based interactive computational environment like Jupyter Notebooks, Google Colaboratory, etc"
      ]
    },
    {
      "cell_type": "markdown",
      "metadata": {
        "id": "DMOn1SisNvIb"
      },
      "source": [
        "## **Syntax - Variables**\n",
        "\n",
        "* Stores a piece of data and gives it a specific name\n",
        "* Do not need to specify data type (No Declaration needed)\n",
        "* Equal sign **( = )** is used to assign values to variables"
      ]
    },
    {
      "cell_type": "code",
      "execution_count": null,
      "metadata": {
        "id": "ninjlkL2NvIc"
      },
      "outputs": [],
      "source": [
        "v = 98"
      ]
    },
    {
      "cell_type": "markdown",
      "metadata": {
        "id": "AoNKXlz0NvIe"
      },
      "source": [
        "**' v '** is the variable name\n",
        "<br>\n",
        "**' = '** is the assignment operator\n",
        "<br>\n",
        "**98** is the value\n",
        "\n",
        "#### **Variable names**\n",
        "* No spaces allowed (Use underscore or init caps, example - 'my_name' or 'myName')\n",
        "* No special symbols or characters like '\"@#%^&()-/\\* except the underscore '_'\n",
        "* Cannot begin with a number but may have a number within the variable name\n",
        "* The python community by convention begin variable names with small letters but caps are allowed anywhere else"
      ]
    },
    {
      "cell_type": "code",
      "execution_count": null,
      "metadata": {
        "id": "abBMzs3JNvIf"
      },
      "outputs": [],
      "source": [
        "my_name = 'John Smith'"
      ]
    },
    {
      "cell_type": "code",
      "execution_count": null,
      "metadata": {
        "collapsed": true,
        "id": "Ao1v72qCNvIf"
      },
      "outputs": [],
      "source": [
        "v_1 = 8\n",
        "v_2 = 9"
      ]
    },
    {
      "cell_type": "markdown",
      "metadata": {
        "id": "JJo-Ny6BNvIg"
      },
      "source": [
        "#### **Using a variable**\n",
        "To use a variable, just type out the variable name.\n",
        "<br>\n",
        "See examples below"
      ]
    },
    {
      "cell_type": "code",
      "execution_count": null,
      "metadata": {
        "id": "XfzGr3iWNvIh",
        "colab": {
          "base_uri": "https://localhost:8080/"
        },
        "outputId": "06a2fcb6-4f50-4676-984f-89c883ac3539"
      },
      "outputs": [
        {
          "output_type": "stream",
          "name": "stdout",
          "text": [
            "John Smith\n"
          ]
        }
      ],
      "source": [
        "print(my_name)"
      ]
    },
    {
      "cell_type": "code",
      "execution_count": null,
      "metadata": {
        "collapsed": true,
        "id": "lm1IaWXwNvIh"
      },
      "outputs": [],
      "source": [
        "age = v_1 + v_2"
      ]
    },
    {
      "cell_type": "code",
      "execution_count": null,
      "metadata": {
        "collapsed": true,
        "id": "9MIrsq9zNvIi",
        "colab": {
          "base_uri": "https://localhost:8080/"
        },
        "outputId": "ae17e949-23ae-410f-8786-8d78454f32f4"
      },
      "outputs": [
        {
          "output_type": "stream",
          "name": "stdout",
          "text": [
            "I am 17 years old\n"
          ]
        }
      ],
      "source": [
        "print ('I am', age, 'years old')"
      ]
    },
    {
      "cell_type": "markdown",
      "metadata": {
        "id": "qrNTpow2NvIi"
      },
      "source": [
        "**<center>Note:**\n",
        "\n",
        "**print** is a function that displays its arguments (inputs). It can take\n",
        "multiple arguments (inputs) separated by commas '**,**'.\n"
      ]
    },
    {
      "cell_type": "markdown",
      "source": [
        "## **Operators**"
      ],
      "metadata": {
        "id": "kXfKtQCHUsvx"
      }
    },
    {
      "cell_type": "markdown",
      "source": [
        "### **Assingment**\n",
        "\n",
        " * '**=**' is the assignment operator. Left operand is assigned with right operand<br>\n",
        " * '**+=**' is the increment operator. Adds right operand to left operand and assigns to the left operand<br>\n",
        " * '**-=**' is the decrement operator. Subtracts right operand from the left operand and assigns to the left operand<br>"
      ],
      "metadata": {
        "id": "UqmwDydHUxG0"
      }
    },
    {
      "cell_type": "markdown",
      "source": [
        "### **Comparison**\n",
        " * '**==**' equals\n",
        " * '**!=**' does not equal\n",
        " * '**<**' is less than\n",
        " * '**>**' is greater than\n",
        " * '**<=**' is less than or equal\n",
        " * '**>=**' is greater than or equal\n"
      ],
      "metadata": {
        "id": "bvelBHQ_VGLU"
      }
    },
    {
      "cell_type": "markdown",
      "source": [
        "### **Boolean or Logical**\n",
        "\n",
        "*  and\n",
        "*  or\n",
        "*  not\n",
        "\n"
      ],
      "metadata": {
        "id": "vHGdL9tyVIQM"
      }
    },
    {
      "cell_type": "markdown",
      "metadata": {
        "id": "GfxU8vUVLiH7"
      },
      "source": [
        "## **Control Flow**\n",
        "### 🍱**Comparison Operators**\n",
        "* Used to form Conditions\n",
        "* Generates Boolean Outputs\n",
        "---\n"
      ]
    },
    {
      "cell_type": "code",
      "execution_count": null,
      "metadata": {
        "id": "UUFU1-D5LiH8"
      },
      "outputs": [],
      "source": [
        "a = 5\n",
        "b = 6\n",
        "name = 'Smith'"
      ]
    },
    {
      "cell_type": "markdown",
      "metadata": {
        "id": "dbfUOxRaLiH-"
      },
      "source": [
        "**Equal to (==)**"
      ]
    },
    {
      "cell_type": "code",
      "execution_count": null,
      "metadata": {
        "collapsed": true,
        "id": "jQ9p2o3xLiH-",
        "colab": {
          "base_uri": "https://localhost:8080/"
        },
        "outputId": "6a75151d-9a9a-4d98-fa9a-2f0980cb2710"
      },
      "outputs": [
        {
          "output_type": "execute_result",
          "data": {
            "text/plain": [
              "True"
            ]
          },
          "metadata": {},
          "execution_count": 2
        }
      ],
      "source": [
        "a == 5"
      ]
    },
    {
      "cell_type": "code",
      "execution_count": null,
      "metadata": {
        "collapsed": true,
        "id": "hVEa40AuLiH_",
        "colab": {
          "base_uri": "https://localhost:8080/"
        },
        "outputId": "98e671dc-9950-4294-ec90-de0bda653024"
      },
      "outputs": [
        {
          "output_type": "execute_result",
          "data": {
            "text/plain": [
              "False"
            ]
          },
          "metadata": {},
          "execution_count": 3
        }
      ],
      "source": [
        "a == b"
      ]
    },
    {
      "cell_type": "markdown",
      "metadata": {
        "id": "QpPObUZaLiIC"
      },
      "source": [
        "**Not equal to (!=)**"
      ]
    },
    {
      "cell_type": "code",
      "execution_count": null,
      "metadata": {
        "collapsed": true,
        "id": "H3ecoxL4LiID",
        "colab": {
          "base_uri": "https://localhost:8080/"
        },
        "outputId": "67af0397-d0a0-4046-cee3-0e90ebb5f98d"
      },
      "outputs": [
        {
          "output_type": "execute_result",
          "data": {
            "text/plain": [
              "True"
            ]
          },
          "metadata": {},
          "execution_count": 4
        }
      ],
      "source": [
        "a != b"
      ]
    },
    {
      "cell_type": "code",
      "execution_count": null,
      "metadata": {
        "id": "sGGsW2pgLiIE",
        "colab": {
          "base_uri": "https://localhost:8080/"
        },
        "outputId": "5beecb11-50be-4d8c-ef93-9b8a5be8cfa9"
      },
      "outputs": [
        {
          "output_type": "execute_result",
          "data": {
            "text/plain": [
              "False"
            ]
          },
          "metadata": {},
          "execution_count": 5
        }
      ],
      "source": [
        "name != 'Smith'"
      ]
    },
    {
      "cell_type": "markdown",
      "metadata": {
        "id": "GHlpIDlYLiIE"
      },
      "source": [
        "**Less than (<) and Greater than (>)**"
      ]
    },
    {
      "cell_type": "code",
      "execution_count": null,
      "metadata": {
        "collapsed": true,
        "id": "FJxqDBWALiIF",
        "colab": {
          "base_uri": "https://localhost:8080/"
        },
        "outputId": "e05e43a0-789e-42ae-bdba-ba97bf4c4bdc"
      },
      "outputs": [
        {
          "output_type": "execute_result",
          "data": {
            "text/plain": [
              "True"
            ]
          },
          "metadata": {},
          "execution_count": 6
        }
      ],
      "source": [
        "a < b"
      ]
    },
    {
      "cell_type": "code",
      "execution_count": null,
      "metadata": {
        "collapsed": true,
        "id": "7LXEksb7LiIF",
        "colab": {
          "base_uri": "https://localhost:8080/"
        },
        "outputId": "4a8c037a-39ae-4fad-a8b9-8a4446cfe26b"
      },
      "outputs": [
        {
          "output_type": "execute_result",
          "data": {
            "text/plain": [
              "False"
            ]
          },
          "metadata": {},
          "execution_count": 7
        }
      ],
      "source": [
        "b > 7"
      ]
    },
    {
      "cell_type": "markdown",
      "metadata": {
        "id": "UsEfIJDiLiIG"
      },
      "source": [
        "**Greater than or equal to (>=) and Less than or equal to (<=)**"
      ]
    },
    {
      "cell_type": "code",
      "execution_count": null,
      "metadata": {
        "collapsed": true,
        "id": "RID0t_YkLiIG",
        "colab": {
          "base_uri": "https://localhost:8080/"
        },
        "outputId": "3eab96f3-eb82-42ed-df48-3ba6fa8de06f"
      },
      "outputs": [
        {
          "output_type": "execute_result",
          "data": {
            "text/plain": [
              "True"
            ]
          },
          "metadata": {},
          "execution_count": 8
        }
      ],
      "source": [
        "a <= 5"
      ]
    },
    {
      "cell_type": "code",
      "execution_count": null,
      "metadata": {
        "collapsed": true,
        "id": "cJsCtk5PLiIG",
        "colab": {
          "base_uri": "https://localhost:8080/"
        },
        "outputId": "14da2890-bffa-4b84-f65c-6dd2b297dd18"
      },
      "outputs": [
        {
          "output_type": "execute_result",
          "data": {
            "text/plain": [
              "False"
            ]
          },
          "metadata": {},
          "execution_count": 9
        }
      ],
      "source": [
        "b >= 7"
      ]
    },
    {
      "cell_type": "code",
      "execution_count": null,
      "metadata": {
        "collapsed": true,
        "id": "dvF6VJpiLiIH",
        "colab": {
          "base_uri": "https://localhost:8080/"
        },
        "outputId": "4ff06184-d3be-41c2-88ea-8e770c71c70f"
      },
      "outputs": [
        {
          "output_type": "execute_result",
          "data": {
            "text/plain": [
              "5"
            ]
          },
          "metadata": {},
          "execution_count": 10
        }
      ],
      "source": [
        "a"
      ]
    },
    {
      "cell_type": "markdown",
      "metadata": {
        "id": "DbNN7z7hLiIH"
      },
      "source": [
        "### 🍘**Logical Operators**\n",
        "Combinational operators - Logical operators are used to combine Comparison statements and to negate the output of a Comparison statement.\n",
        "<br>\n",
        "Below are Logical operators supported by Python language. All other Logical operators can be derived from these\n",
        "\n",
        "**Logical AND (and)**"
      ]
    },
    {
      "cell_type": "code",
      "execution_count": null,
      "metadata": {
        "collapsed": true,
        "id": "h8LFQxSnLiIH",
        "colab": {
          "base_uri": "https://localhost:8080/"
        },
        "outputId": "cf3f92e4-6cf9-46e3-a9c9-8ee37c52a097"
      },
      "outputs": [
        {
          "output_type": "execute_result",
          "data": {
            "text/plain": [
              "True"
            ]
          },
          "metadata": {},
          "execution_count": 11
        }
      ],
      "source": [
        "a <= 5 and a < b"
      ]
    },
    {
      "cell_type": "code",
      "execution_count": null,
      "metadata": {
        "collapsed": true,
        "id": "cTXn0lkXLiII",
        "colab": {
          "base_uri": "https://localhost:8080/"
        },
        "outputId": "3d44b74a-54ef-4c02-c309-eb4b10285bd4"
      },
      "outputs": [
        {
          "output_type": "execute_result",
          "data": {
            "text/plain": [
              "False"
            ]
          },
          "metadata": {},
          "execution_count": 12
        }
      ],
      "source": [
        "a <= 5 and b >= 7"
      ]
    },
    {
      "cell_type": "markdown",
      "metadata": {
        "id": "3ZO1iHw0LiII"
      },
      "source": [
        "**Logical OR (or)**"
      ]
    },
    {
      "cell_type": "code",
      "execution_count": null,
      "metadata": {
        "collapsed": true,
        "id": "3ajKHp91LiII",
        "colab": {
          "base_uri": "https://localhost:8080/"
        },
        "outputId": "032fbbf4-d3ca-4ae2-b256-edca1957126a"
      },
      "outputs": [
        {
          "output_type": "execute_result",
          "data": {
            "text/plain": [
              "True"
            ]
          },
          "metadata": {},
          "execution_count": 13
        }
      ],
      "source": [
        "a <= 5 or a < b"
      ]
    },
    {
      "cell_type": "code",
      "execution_count": null,
      "metadata": {
        "collapsed": true,
        "id": "C3gnns6FLiII",
        "colab": {
          "base_uri": "https://localhost:8080/"
        },
        "outputId": "fb4f55cd-f5dd-413c-806b-12b8fd5cecd6"
      },
      "outputs": [
        {
          "output_type": "execute_result",
          "data": {
            "text/plain": [
              "True"
            ]
          },
          "metadata": {},
          "execution_count": 14
        }
      ],
      "source": [
        "a <= 5 or b >= 7"
      ]
    },
    {
      "cell_type": "markdown",
      "metadata": {
        "id": "eErpZbVMLiIJ"
      },
      "source": [
        "**Logical NOT (not)**"
      ]
    },
    {
      "cell_type": "code",
      "execution_count": null,
      "metadata": {
        "collapsed": true,
        "id": "laS1uVndLiIJ",
        "colab": {
          "base_uri": "https://localhost:8080/"
        },
        "outputId": "e203df6f-ebe4-461a-d867-3bb33d00a438"
      },
      "outputs": [
        {
          "output_type": "execute_result",
          "data": {
            "text/plain": [
              "False"
            ]
          },
          "metadata": {},
          "execution_count": 15
        }
      ],
      "source": [
        "not(a <= 5)"
      ]
    },
    {
      "cell_type": "markdown",
      "metadata": {
        "id": "ELDa2p8mNvIj"
      },
      "source": [
        "### **Arithmetic Operators**"
      ]
    },
    {
      "cell_type": "markdown",
      "metadata": {
        "id": "vZWS8PPxNvIj"
      },
      "source": [
        "#### **Addition ( + )**"
      ]
    },
    {
      "cell_type": "code",
      "execution_count": null,
      "metadata": {
        "collapsed": true,
        "id": "WhA3I9GpNvIj",
        "colab": {
          "base_uri": "https://localhost:8080/"
        },
        "outputId": "c4518c42-eb2c-4ca4-9c8d-c41055eb029c"
      },
      "outputs": [
        {
          "output_type": "execute_result",
          "data": {
            "text/plain": [
              "5"
            ]
          },
          "metadata": {},
          "execution_count": 1
        }
      ],
      "source": [
        "2+3"
      ]
    },
    {
      "cell_type": "markdown",
      "metadata": {
        "id": "rYURQKUTNvIj"
      },
      "source": [
        "#### **Subtraction ( - )**"
      ]
    },
    {
      "cell_type": "code",
      "execution_count": null,
      "metadata": {
        "collapsed": true,
        "id": "VeV0kiG9NvIj",
        "colab": {
          "base_uri": "https://localhost:8080/"
        },
        "outputId": "c866aa0a-ca12-4241-d5a5-3a6a9800fb8e"
      },
      "outputs": [
        {
          "output_type": "execute_result",
          "data": {
            "text/plain": [
              "6"
            ]
          },
          "metadata": {},
          "execution_count": 2
        }
      ],
      "source": [
        "9-3"
      ]
    },
    {
      "cell_type": "markdown",
      "metadata": {
        "id": "VFPs8YiVNvIk"
      },
      "source": [
        "#### **Multiplication ( * )**"
      ]
    },
    {
      "cell_type": "code",
      "execution_count": null,
      "metadata": {
        "collapsed": true,
        "id": "B7y3sFErNvIk",
        "colab": {
          "base_uri": "https://localhost:8080/"
        },
        "outputId": "99aeef50-9548-4c01-de67-8f23f72c35e7"
      },
      "outputs": [
        {
          "output_type": "execute_result",
          "data": {
            "text/plain": [
              "24"
            ]
          },
          "metadata": {},
          "execution_count": 3
        }
      ],
      "source": [
        "3*8"
      ]
    },
    {
      "cell_type": "markdown",
      "metadata": {
        "id": "i6VgPlE1NvIk"
      },
      "source": [
        "#### **Division( / )**"
      ]
    },
    {
      "cell_type": "code",
      "execution_count": null,
      "metadata": {
        "collapsed": true,
        "id": "7IeEAKSqNvIk",
        "colab": {
          "base_uri": "https://localhost:8080/"
        },
        "outputId": "4edc89ce-83a3-4850-95e6-a9161029566e"
      },
      "outputs": [
        {
          "output_type": "execute_result",
          "data": {
            "text/plain": [
              "1.5"
            ]
          },
          "metadata": {},
          "execution_count": 4
        }
      ],
      "source": [
        "3/2"
      ]
    },
    {
      "cell_type": "markdown",
      "metadata": {
        "id": "_3KMOMXtNvIl"
      },
      "source": [
        "#### **Floor Division ( // )**"
      ]
    },
    {
      "cell_type": "code",
      "execution_count": null,
      "metadata": {
        "collapsed": true,
        "id": "-eskamGSNvIm",
        "colab": {
          "base_uri": "https://localhost:8080/"
        },
        "outputId": "ca976be5-d291-486b-d89f-a18e6245581c"
      },
      "outputs": [
        {
          "output_type": "execute_result",
          "data": {
            "text/plain": [
              "1"
            ]
          },
          "metadata": {},
          "execution_count": 5
        }
      ],
      "source": [
        "3//2"
      ]
    },
    {
      "cell_type": "markdown",
      "metadata": {
        "id": "Ob1ams-PNvIm"
      },
      "source": [
        "#### **Exponent( ** )**"
      ]
    },
    {
      "cell_type": "code",
      "execution_count": null,
      "metadata": {
        "collapsed": true,
        "id": "5TcaghZaNvIm",
        "colab": {
          "base_uri": "https://localhost:8080/"
        },
        "outputId": "38143771-f9c2-4cd3-9c7a-2146381ae596"
      },
      "outputs": [
        {
          "output_type": "execute_result",
          "data": {
            "text/plain": [
              "8"
            ]
          },
          "metadata": {},
          "execution_count": 6
        }
      ],
      "source": [
        "2**3"
      ]
    },
    {
      "cell_type": "code",
      "execution_count": null,
      "metadata": {
        "id": "PpOp0P4nLiIJ",
        "colab": {
          "base_uri": "https://localhost:8080/"
        },
        "outputId": "5f685949-576b-4616-feb3-81e53f07e1be"
      },
      "outputs": [
        {
          "output_type": "stream",
          "name": "stdout",
          "text": [
            "enter value: 4\n",
            "4 <class 'str'>\n"
          ]
        }
      ],
      "source": [
        "var = input('enter value: ')\n",
        "\n",
        "print(var,type(var))\n"
      ]
    },
    {
      "cell_type": "markdown",
      "metadata": {
        "id": "LQN966CvNvIm"
      },
      "source": [
        "## **Comments**\n",
        "* Single line commenting symbol is the hash symbol '#'\n",
        "* The interpreter ignores everything after #\n",
        "* Leave comments in your code to make it understandable to other team members and for yourself"
      ]
    },
    {
      "cell_type": "code",
      "execution_count": null,
      "metadata": {
        "collapsed": true,
        "id": "PJXTFSwCNvIn"
      },
      "outputs": [],
      "source": [
        "# This line is ignored"
      ]
    },
    {
      "cell_type": "markdown",
      "metadata": {
        "id": "3d7_7j1PNvIn"
      },
      "source": [
        "* Multi-line - Not supported in Python but people use triple quote (**Will show this later**)\n",
        "* Use the # on each line of a multiline comment"
      ]
    },
    {
      "cell_type": "code",
      "execution_count": null,
      "metadata": {
        "collapsed": true,
        "id": "zpmHundXNvIn"
      },
      "outputs": [],
      "source": [
        "# This is a multi-line comment\n",
        "# This line and the line above are both ignored by the interpreter"
      ]
    },
    {
      "cell_type": "markdown",
      "metadata": {
        "id": "pQaAqrVCNvIn"
      },
      "source": [
        "# **Exercise 1**\n",
        "#### **Tip Calculator!!**\n",
        "Cost of meal = 54.76\n",
        "<br>\n",
        "Tax = 7.85%\n",
        "<br>\n",
        "Tip = 15%\n",
        "<br>\n",
        "Find the tax amount, cost after the tax, tip amount, and total cost"
      ]
    },
    {
      "cell_type": "code",
      "execution_count": null,
      "metadata": {
        "collapsed": true,
        "id": "C7jbWZL6NvIo",
        "colab": {
          "base_uri": "https://localhost:8080/"
        },
        "outputId": "0405dea8-bc45-419e-9b88-8d91a5c5b874"
      },
      "outputs": [
        {
          "output_type": "stream",
          "name": "stdout",
          "text": [
            "Tax amount: 4.29866\n",
            "Cost after tax: 59.058659999999996\n",
            "Tip amount: 8.858799\n",
            "Total cost: 67.917459\n"
          ]
        }
      ],
      "source": [
        "def calculate_cost(meal_cost, tax_rate, tip_rate):\n",
        "    # Calculate tax amount\n",
        "    tax_amount = meal_cost * (tax_rate / 100)\n",
        "\n",
        "    # Calculate cost after tax\n",
        "    cost_after_tax = meal_cost + tax_amount\n",
        "\n",
        "    # Calculate tip amount\n",
        "    tip_amount = cost_after_tax * (tip_rate / 100)\n",
        "\n",
        "    # Calculate total cost\n",
        "    total_cost = cost_after_tax + tip_amount\n",
        "\n",
        "    return tax_amount, cost_after_tax, tip_amount, total_cost\n",
        "\n",
        "# Given values\n",
        "meal_cost = 54.76\n",
        "tax_rate = 7.85\n",
        "tip_rate = 15\n",
        "\n",
        "# Calculate the values\n",
        "tax_amount, cost_after_tax, tip_amount, total_cost = calculate_cost(meal_cost, tax_rate, tip_rate)\n",
        "\n",
        "# Print the results\n",
        "print(\"Tax amount:\", tax_amount)\n",
        "print(\"Cost after tax:\", cost_after_tax)\n",
        "print(\"Tip amount:\", tip_amount)\n",
        "print(\"Total cost:\", total_cost)\n",
        "\n"
      ]
    },
    {
      "cell_type": "markdown",
      "source": [
        "## **Data types**\n",
        "Data Types are implied. They do not have to be declared\n",
        "* Numeric types - int, float, complex\n",
        "* Boolean - True, False\n",
        "* String\n",
        "* List\n",
        "* Tuple\n",
        "\n"
      ],
      "metadata": {
        "id": "vOsKX_q_jl_n"
      }
    },
    {
      "cell_type": "markdown",
      "metadata": {
        "id": "vojmq_EkNvIo"
      },
      "source": [
        "###**Strings**\n",
        "* Any strand of all characters on the keyboard put in quotations\n",
        "* One line strings - declared in single quotes (' ') or double quotes (\" \")\n",
        "* Single and double quotes can be used interchangeably"
      ]
    },
    {
      "cell_type": "code",
      "execution_count": null,
      "metadata": {
        "collapsed": true,
        "id": "DRbqFRL0NvIo"
      },
      "outputs": [],
      "source": [
        "name_1 = 'John Wick'\n",
        "name_2 = \"Dag Heward-Mills\""
      ]
    },
    {
      "cell_type": "code",
      "execution_count": null,
      "metadata": {
        "collapsed": true,
        "id": "RIp_gpyJNvIp"
      },
      "outputs": [],
      "source": [
        "# this is a string and not an integer\n",
        "age = '2'"
      ]
    },
    {
      "cell_type": "code",
      "execution_count": null,
      "metadata": {
        "collapsed": true,
        "id": "_4H3aYc5NvIp"
      },
      "outputs": [],
      "source": [
        "# Start with a double quote if you use a single quote in your string\n",
        "f = \"This is Del's pencil\""
      ]
    },
    {
      "cell_type": "code",
      "execution_count": null,
      "metadata": {
        "collapsed": true,
        "id": "YW3bw5CCNvIp"
      },
      "outputs": [],
      "source": [
        "# Start with a single quote if you use a double quote in your string\n",
        "f = 'Francis said \"This is my pencil\"'"
      ]
    },
    {
      "cell_type": "code",
      "execution_count": null,
      "metadata": {
        "collapsed": true,
        "id": "Uv2yAqy_NvIq",
        "colab": {
          "base_uri": "https://localhost:8080/"
        },
        "outputId": "6e766c28-49ef-4585-f811-79a328da3f7c"
      },
      "outputs": [
        {
          "output_type": "stream",
          "name": "stdout",
          "text": [
            "Francis said \"This is my pencil\"\n"
          ]
        }
      ],
      "source": [
        "print (f)"
      ]
    },
    {
      "cell_type": "markdown",
      "metadata": {
        "id": "K5DjlEX2NvIq"
      },
      "source": [
        "Multi-line strings - declared in triple quotes ( \"\"\" \"\"\" or ''' ''' )"
      ]
    },
    {
      "cell_type": "code",
      "execution_count": null,
      "metadata": {
        "collapsed": true,
        "id": "leFywTpVNvIq"
      },
      "outputs": [],
      "source": [
        "eg = \"\"\"I am in the CEAS library in\n",
        "Introduction to Python session \"\"\""
      ]
    },
    {
      "cell_type": "code",
      "execution_count": null,
      "metadata": {
        "collapsed": true,
        "id": "kqLEr6uANvIq",
        "colab": {
          "base_uri": "https://localhost:8080/"
        },
        "outputId": "ab91c6c5-6c4f-44f8-ea76-7ad8d068a820"
      },
      "outputs": [
        {
          "output_type": "stream",
          "name": "stdout",
          "text": [
            "I am in the CEAS library in\n",
            "Introduction to Python session \n"
          ]
        }
      ],
      "source": [
        "print(eg)"
      ]
    },
    {
      "cell_type": "markdown",
      "metadata": {
        "id": "fAYYTifnNvIq"
      },
      "source": [
        "#### **Triple quotes for comments**\n",
        "Many developers use triple quotes to comment, even though it is **not a good programming practice**.\n",
        "\n",
        "The interpreter ignores any unassigned value, and stores it in memory with no variable to track its address."
      ]
    },
    {
      "cell_type": "code",
      "execution_count": null,
      "metadata": {
        "collapsed": true,
        "id": "LaGyXb4pNvIr",
        "colab": {
          "base_uri": "https://localhost:8080/"
        },
        "outputId": "0479688b-98f9-45e3-f59b-3ea7e13d9859"
      },
      "outputs": [
        {
          "output_type": "stream",
          "name": "stdout",
          "text": [
            "55\n"
          ]
        }
      ],
      "source": [
        "'''This can be used as a comment in\n",
        "your code. The interpreter ignores any unassigned value\n",
        "only storing it in memory with no variable to track its address'''\n",
        "\n",
        "# my real code starts here\n",
        "print(55)"
      ]
    },
    {
      "cell_type": "markdown",
      "metadata": {
        "id": "r_znuyrJNvIr"
      },
      "source": [
        "#### **String Indexing**\n",
        "Each character can be accessed by using their index starting from index 0"
      ]
    },
    {
      "cell_type": "code",
      "execution_count": null,
      "metadata": {
        "collapsed": true,
        "id": "hDEwtu9sNvIr"
      },
      "outputs": [],
      "source": [
        "name = 'Johnson Smith'"
      ]
    },
    {
      "cell_type": "code",
      "execution_count": null,
      "metadata": {
        "collapsed": true,
        "id": "HtBGhgYCNvIr",
        "colab": {
          "base_uri": "https://localhost:8080/",
          "height": 36
        },
        "outputId": "ece57bbc-2f3b-4277-b9f4-ca08ead8de03"
      },
      "outputs": [
        {
          "output_type": "execute_result",
          "data": {
            "text/plain": [
              "'J'"
            ],
            "application/vnd.google.colaboratory.intrinsic+json": {
              "type": "string"
            }
          },
          "metadata": {},
          "execution_count": 28
        }
      ],
      "source": [
        "name[0]"
      ]
    },
    {
      "cell_type": "code",
      "execution_count": null,
      "metadata": {
        "collapsed": true,
        "id": "cVpqhZaWNvIr",
        "colab": {
          "base_uri": "https://localhost:8080/",
          "height": 36
        },
        "outputId": "7a7e326a-eba7-487d-e3f7-34a6703a2a20"
      },
      "outputs": [
        {
          "output_type": "execute_result",
          "data": {
            "text/plain": [
              "'o'"
            ],
            "application/vnd.google.colaboratory.intrinsic+json": {
              "type": "string"
            }
          },
          "metadata": {},
          "execution_count": 29
        }
      ],
      "source": [
        "name[1]"
      ]
    },
    {
      "cell_type": "code",
      "execution_count": null,
      "metadata": {
        "collapsed": true,
        "id": "wyvYQ40ONvIs",
        "colab": {
          "base_uri": "https://localhost:8080/",
          "height": 36
        },
        "outputId": "6e039de8-efb3-4985-9818-78ad3e946c0c"
      },
      "outputs": [
        {
          "output_type": "execute_result",
          "data": {
            "text/plain": [
              "'n'"
            ],
            "application/vnd.google.colaboratory.intrinsic+json": {
              "type": "string"
            }
          },
          "metadata": {},
          "execution_count": 30
        }
      ],
      "source": [
        "name[6]"
      ]
    },
    {
      "cell_type": "code",
      "execution_count": null,
      "metadata": {
        "collapsed": true,
        "id": "2o_odn3eNvIs",
        "colab": {
          "base_uri": "https://localhost:8080/",
          "height": 36
        },
        "outputId": "8d410e4d-0b0a-43ea-ce86-5755298d4e60"
      },
      "outputs": [
        {
          "output_type": "execute_result",
          "data": {
            "text/plain": [
              "'h'"
            ],
            "application/vnd.google.colaboratory.intrinsic+json": {
              "type": "string"
            }
          },
          "metadata": {},
          "execution_count": 31
        }
      ],
      "source": [
        "name[12]"
      ]
    },
    {
      "cell_type": "markdown",
      "metadata": {
        "id": "0KWp0FUENvIs"
      },
      "source": [
        "**You can start indexing from the right side with negative indexes starting with index -1**"
      ]
    },
    {
      "cell_type": "code",
      "execution_count": null,
      "metadata": {
        "collapsed": true,
        "id": "PbOku2kUNvIs",
        "colab": {
          "base_uri": "https://localhost:8080/",
          "height": 36
        },
        "outputId": "213157e3-704b-452d-9834-1255e32539f4"
      },
      "outputs": [
        {
          "output_type": "execute_result",
          "data": {
            "text/plain": [
              "'h'"
            ],
            "application/vnd.google.colaboratory.intrinsic+json": {
              "type": "string"
            }
          },
          "metadata": {},
          "execution_count": 32
        }
      ],
      "source": [
        "name[-1]"
      ]
    },
    {
      "cell_type": "code",
      "execution_count": null,
      "metadata": {
        "collapsed": true,
        "id": "FgTos8isNvIs",
        "colab": {
          "base_uri": "https://localhost:8080/",
          "height": 36
        },
        "outputId": "ddd4e527-9610-4f3f-c120-ebcdb597888a"
      },
      "outputs": [
        {
          "output_type": "execute_result",
          "data": {
            "text/plain": [
              "'t'"
            ],
            "application/vnd.google.colaboratory.intrinsic+json": {
              "type": "string"
            }
          },
          "metadata": {},
          "execution_count": 33
        }
      ],
      "source": [
        "name[-2]"
      ]
    },
    {
      "cell_type": "code",
      "execution_count": null,
      "metadata": {
        "collapsed": true,
        "id": "R8ASL5U7NvIs",
        "colab": {
          "base_uri": "https://localhost:8080/",
          "height": 36
        },
        "outputId": "35511ec7-6df6-496b-933c-0512fed6707f"
      },
      "outputs": [
        {
          "output_type": "execute_result",
          "data": {
            "text/plain": [
              "'J'"
            ],
            "application/vnd.google.colaboratory.intrinsic+json": {
              "type": "string"
            }
          },
          "metadata": {},
          "execution_count": 34
        }
      ],
      "source": [
        "name[-13]"
      ]
    },
    {
      "cell_type": "markdown",
      "metadata": {
        "id": "yy3WliZLNvIt"
      },
      "source": [
        "#### **Slicing**\n",
        "Extract a range of characters\n",
        "<br>\n",
        "Assume a string variable called **'var'**\n",
        "<br>\n",
        "**var[ starting index : ending index + 1 ]**"
      ]
    },
    {
      "cell_type": "code",
      "execution_count": null,
      "metadata": {
        "collapsed": true,
        "id": "zrwZ0NfKNvIt",
        "colab": {
          "base_uri": "https://localhost:8080/"
        },
        "outputId": "9adf871d-864e-4963-b73c-76ce8dec70e3"
      },
      "outputs": [
        {
          "output_type": "execute_result",
          "data": {
            "text/plain": [
              "'Johnson Smith'"
            ],
            "application/vnd.google.colaboratory.intrinsic+json": {
              "type": "string"
            }
          },
          "metadata": {},
          "execution_count": 35
        }
      ],
      "source": [
        "name"
      ]
    },
    {
      "cell_type": "code",
      "execution_count": null,
      "metadata": {
        "collapsed": true,
        "id": "C6Rlmc6oNvIt",
        "colab": {
          "base_uri": "https://localhost:8080/"
        },
        "outputId": "e4683a13-6e56-4397-9006-f4253f901680"
      },
      "outputs": [
        {
          "output_type": "execute_result",
          "data": {
            "text/plain": [
              "'Johnso'"
            ],
            "application/vnd.google.colaboratory.intrinsic+json": {
              "type": "string"
            }
          },
          "metadata": {},
          "execution_count": 36
        }
      ],
      "source": [
        "name[0:6]"
      ]
    },
    {
      "cell_type": "code",
      "execution_count": null,
      "metadata": {
        "collapsed": true,
        "id": "SCMfQSDbNvIu",
        "colab": {
          "base_uri": "https://localhost:8080/"
        },
        "outputId": "9c7c5897-3487-4ece-8459-64986c6b9c29"
      },
      "outputs": [
        {
          "output_type": "execute_result",
          "data": {
            "text/plain": [
              "' Smith'"
            ],
            "application/vnd.google.colaboratory.intrinsic+json": {
              "type": "string"
            }
          },
          "metadata": {},
          "execution_count": 37
        }
      ],
      "source": [
        "name[7:13]"
      ]
    },
    {
      "cell_type": "code",
      "execution_count": null,
      "metadata": {
        "collapsed": true,
        "id": "LF3XSQV3NvIu",
        "colab": {
          "base_uri": "https://localhost:8080/"
        },
        "outputId": "917d1c38-9a10-403d-aa20-20fe61edb0a3"
      },
      "outputs": [
        {
          "output_type": "execute_result",
          "data": {
            "text/plain": [
              "'ohn'"
            ],
            "application/vnd.google.colaboratory.intrinsic+json": {
              "type": "string"
            }
          },
          "metadata": {},
          "execution_count": 38
        }
      ],
      "source": [
        "name[1:4]"
      ]
    },
    {
      "cell_type": "markdown",
      "metadata": {
        "id": "rhzeidPeNvIu"
      },
      "source": [
        "**<h5><center>Note</center></h5>**\n",
        "\n",
        "**Strings are \"IMMUTABLE\"** -\n",
        "Once you create a string object, you cannot change a particular string location.\n",
        "<br>\n",
        "**name[6] = 'c'**\n",
        "<br>\n",
        "will result in the error below\n",
        "\n",
        "*TypeError                                 Traceback (most recent call last)*\n",
        "<br>\n",
        "*\\< ipython-input-44-d47a2608aba2 > in < module >()*\n",
        "<br>\n",
        "*----> 1 name[6]='-'*\n",
        "<br>\n",
        "*TypeError: 'str' object does not support item assignment*\n"
      ]
    },
    {
      "cell_type": "markdown",
      "metadata": {
        "id": "eQjjQuZ8NvIv"
      },
      "source": [
        "#### **String Functions and Methods**\n"
      ]
    },
    {
      "cell_type": "markdown",
      "source": [
        "**Length of a string**"
      ],
      "metadata": {
        "id": "Ltv6tJq1xSYO"
      }
    },
    {
      "cell_type": "code",
      "source": [
        "len(name)"
      ],
      "metadata": {
        "id": "Do_6NDTVw9tF",
        "colab": {
          "base_uri": "https://localhost:8080/"
        },
        "outputId": "a9842c43-52b2-4cd4-aaba-be6d00d0c065"
      },
      "execution_count": null,
      "outputs": [
        {
          "output_type": "execute_result",
          "data": {
            "text/plain": [
              "13"
            ]
          },
          "metadata": {},
          "execution_count": 39
        }
      ]
    },
    {
      "cell_type": "markdown",
      "metadata": {
        "id": "WlcSZPDPNvIv"
      },
      "source": [
        "**Convert to string**"
      ]
    },
    {
      "cell_type": "code",
      "execution_count": null,
      "metadata": {
        "collapsed": true,
        "id": "uRU2VmhoNvIv"
      },
      "outputs": [],
      "source": [
        "age = 3"
      ]
    },
    {
      "cell_type": "code",
      "execution_count": null,
      "metadata": {
        "collapsed": true,
        "id": "Q9wT1ZcnNvIv",
        "colab": {
          "base_uri": "https://localhost:8080/",
          "height": 36
        },
        "outputId": "4c2cfd2e-58e9-4c8d-bb76-3d0c43948547"
      },
      "outputs": [
        {
          "output_type": "execute_result",
          "data": {
            "text/plain": [
              "'3'"
            ],
            "application/vnd.google.colaboratory.intrinsic+json": {
              "type": "string"
            }
          },
          "metadata": {},
          "execution_count": 41
        }
      ],
      "source": [
        "str(age)"
      ]
    },
    {
      "cell_type": "markdown",
      "metadata": {
        "id": "eeNhBbzmNvIv"
      },
      "source": [
        "**Convert to lower case**"
      ]
    },
    {
      "cell_type": "code",
      "execution_count": null,
      "metadata": {
        "collapsed": true,
        "id": "Aaa0w265NvIv",
        "colab": {
          "base_uri": "https://localhost:8080/",
          "height": 36
        },
        "outputId": "a12ca50b-1fa9-4c45-c447-e91945b5b405"
      },
      "outputs": [
        {
          "output_type": "execute_result",
          "data": {
            "text/plain": [
              "'johnson smith'"
            ],
            "application/vnd.google.colaboratory.intrinsic+json": {
              "type": "string"
            }
          },
          "metadata": {},
          "execution_count": 42
        }
      ],
      "source": [
        "name.lower()"
      ]
    },
    {
      "cell_type": "markdown",
      "metadata": {
        "id": "QNR6xqgKNvIw"
      },
      "source": [
        "**Convert to upper case**"
      ]
    },
    {
      "cell_type": "code",
      "execution_count": null,
      "metadata": {
        "collapsed": true,
        "id": "-aRnigHnNvIw",
        "colab": {
          "base_uri": "https://localhost:8080/",
          "height": 36
        },
        "outputId": "aa3aeafc-82d5-4113-fddd-acffcd6024ec"
      },
      "outputs": [
        {
          "output_type": "execute_result",
          "data": {
            "text/plain": [
              "'JOHNSON SMITH'"
            ],
            "application/vnd.google.colaboratory.intrinsic+json": {
              "type": "string"
            }
          },
          "metadata": {},
          "execution_count": 43
        }
      ],
      "source": [
        "name.upper()"
      ]
    },
    {
      "cell_type": "markdown",
      "metadata": {
        "id": "wTercCd1NvIw"
      },
      "source": [
        "**Is digit/Is alpha**\n",
        "\n",
        "Output is a Boolean value (True/False)"
      ]
    },
    {
      "cell_type": "code",
      "execution_count": null,
      "metadata": {
        "id": "aBmJogjaNvIw"
      },
      "outputs": [],
      "source": [
        "name = 'Francis'"
      ]
    },
    {
      "cell_type": "code",
      "execution_count": null,
      "metadata": {
        "id": "7RSzLWCDNvIw",
        "colab": {
          "base_uri": "https://localhost:8080/"
        },
        "outputId": "4b455094-62f1-4f6a-f4e6-2b9d2486a9d5"
      },
      "outputs": [
        {
          "output_type": "execute_result",
          "data": {
            "text/plain": [
              "False"
            ]
          },
          "metadata": {},
          "execution_count": 45
        }
      ],
      "source": [
        "name.isdigit()"
      ]
    },
    {
      "cell_type": "code",
      "execution_count": null,
      "metadata": {
        "id": "cARmRfgGNvIw",
        "colab": {
          "base_uri": "https://localhost:8080/"
        },
        "outputId": "a5ea4c1f-6142-4488-830a-5807534f5e97"
      },
      "outputs": [
        {
          "output_type": "execute_result",
          "data": {
            "text/plain": [
              "True"
            ]
          },
          "metadata": {},
          "execution_count": 46
        }
      ],
      "source": [
        "name.isalpha()"
      ]
    },
    {
      "cell_type": "code",
      "execution_count": null,
      "metadata": {
        "id": "8IPxDNPfNvIw",
        "colab": {
          "base_uri": "https://localhost:8080/"
        },
        "outputId": "445da143-1ea5-4006-b0e6-78a93e57ecd1"
      },
      "outputs": [
        {
          "output_type": "execute_result",
          "data": {
            "text/plain": [
              "True"
            ]
          },
          "metadata": {},
          "execution_count": 47
        }
      ],
      "source": [
        "str(age).isdigit()"
      ]
    },
    {
      "cell_type": "markdown",
      "metadata": {
        "id": "Mt2Le1TNNvIx"
      },
      "source": [
        "**Replace characters**"
      ]
    },
    {
      "cell_type": "code",
      "execution_count": null,
      "metadata": {
        "id": "a8Znotd7NvIx",
        "colab": {
          "base_uri": "https://localhost:8080/",
          "height": 36
        },
        "outputId": "ee70a30a-2ef8-4e47-90b0-ae86ff416f17"
      },
      "outputs": [
        {
          "output_type": "execute_result",
          "data": {
            "text/plain": [
              "'Francik'"
            ],
            "application/vnd.google.colaboratory.intrinsic+json": {
              "type": "string"
            }
          },
          "metadata": {},
          "execution_count": 48
        }
      ],
      "source": [
        "name.replace('s','k')"
      ]
    },
    {
      "cell_type": "markdown",
      "metadata": {
        "id": "rI_eEcLpNvIx"
      },
      "source": [
        "**Split a string using a delimiter character**"
      ]
    },
    {
      "cell_type": "code",
      "execution_count": null,
      "metadata": {
        "collapsed": true,
        "id": "pWd5ctrKNvIx"
      },
      "outputs": [],
      "source": [
        "text = 'I am going to the University of Cincinnati'\n",
        "name = \"Dag Heward-Mills\""
      ]
    },
    {
      "cell_type": "code",
      "execution_count": null,
      "metadata": {
        "collapsed": true,
        "id": "xByQvVltNvIx",
        "colab": {
          "base_uri": "https://localhost:8080/"
        },
        "outputId": "964fa980-27db-4252-f4ef-791bf7027a3b"
      },
      "outputs": [
        {
          "output_type": "execute_result",
          "data": {
            "text/plain": [
              "['I', 'am', 'going', 'to', 'the', 'University', 'of', 'Cincinnati']"
            ]
          },
          "metadata": {},
          "execution_count": 50
        }
      ],
      "source": [
        "text.split(' ')"
      ]
    },
    {
      "cell_type": "code",
      "execution_count": null,
      "metadata": {
        "collapsed": true,
        "id": "6-fK6CYTNvIx",
        "colab": {
          "base_uri": "https://localhost:8080/"
        },
        "outputId": "dfa1d0f0-c331-4263-c638-e95ab7a36003"
      },
      "outputs": [
        {
          "output_type": "execute_result",
          "data": {
            "text/plain": [
              "['Dag Heward', 'Mills']"
            ]
          },
          "metadata": {},
          "execution_count": 51
        }
      ],
      "source": [
        "name.split('-')"
      ]
    },
    {
      "cell_type": "markdown",
      "metadata": {
        "id": "KoOsi92XNvIx"
      },
      "source": [
        "#### **String Concatenation**\n",
        "**Combining strings is done by using the (+) operator between them**"
      ]
    },
    {
      "cell_type": "code",
      "execution_count": null,
      "metadata": {
        "id": "WvEvx6WKNvIx",
        "colab": {
          "base_uri": "https://localhost:8080/"
        },
        "outputId": "baf66901-41f5-42d7-9568-77c5b22241cf"
      },
      "outputs": [
        {
          "output_type": "stream",
          "name": "stdout",
          "text": [
            "My name is John\n"
          ]
        }
      ],
      "source": [
        "string1 = 'My name is '\n",
        "name = 'John'\n",
        "string2 = string1 + name\n",
        "print(string2)"
      ]
    },
    {
      "cell_type": "markdown",
      "metadata": {
        "id": "1i78_x29NvIy"
      },
      "source": [
        "**In order to combine a string with a non-string variable, use str( ) method to convert non-strings to strings**\n",
        "<br>\n",
        "You cannot concatenate a string with a non-string type without converting the non-string type to a string.\n",
        "<br>\n",
        "No conversion will result in error similar tp the error below\n",
        "\n",
        "*TypeError                                 Traceback (most recent call last)*\n",
        "<br>\n",
        "*\\< ipython-input-77-887da7680fd9 > in < module >( )*\n",
        "<br>\n",
        "*----> 1 string1 + 9*\n",
        "<br>\n",
        "*TypeError: must be str, not int*"
      ]
    },
    {
      "cell_type": "code",
      "execution_count": null,
      "metadata": {
        "collapsed": true,
        "id": "L5GGVYeANvIy",
        "colab": {
          "base_uri": "https://localhost:8080/"
        },
        "outputId": "692912b3-a0d5-4702-c40f-c55f3445227e"
      },
      "outputs": [
        {
          "output_type": "stream",
          "name": "stdout",
          "text": [
            "My name is John I am 16 years old\n"
          ]
        }
      ],
      "source": [
        "string1 = 'My name is '\n",
        "name = 'John '\n",
        "age = 16\n",
        "string2 = string1 + name + 'I am ' + str(age) + ' years old'\n",
        "print(string2)"
      ]
    },
    {
      "cell_type": "markdown",
      "source": [
        "# **Exercise 2**\n",
        "\n",
        "#### **(Strings and Lists)**\n",
        "*   Create a variable with the string value - **The quick brown fox jumps over a lazy brown dog.** <br>\n",
        "    * Print the length of this string variable\n",
        "    * **'Split'** the string using **'  '** (space character) and assign this operation to a new variable. Print the length of the new variable\n",
        "    * Find the middle element of the sequence in new variable and return its value\n",
        "    * **'replace'** we want to replace the brown fox to blue fox\n",
        "\n",
        "\n"
      ],
      "metadata": {
        "id": "PrjCs6A2tz_L"
      }
    },
    {
      "cell_type": "code",
      "source": [
        "text = 'The quick brown fox jumps over a lazy dog'\n",
        "\n",
        "#Length of the 'text' variable\n",
        "print('Length of the variable \"text\":', len(text))\n",
        "\n",
        "#Splitting the string\n",
        "new = text.split(' ')\n",
        "\n",
        "#Length of the 'new' variable\n",
        "print('Length of the variable \"new\":', len(new))\n",
        "\n",
        "#Middle element of the 'new' variable\n",
        "mid_obj = len(new)//2\n",
        "print('Middle Element in the new variable: ', new[mid_obj])\n",
        "\n",
        "#Sorting the 'new' variable\n",
        "new.sort()\n",
        "print(new)\n",
        "\n",
        "#Adding a string to the 'new' variable\n",
        "new.append('. This is another string')\n",
        "\n",
        "#Joining the the individual strings into one string\n",
        "' '.join(new)"
      ],
      "metadata": {
        "id": "QN4qbRs6OPKi",
        "colab": {
          "base_uri": "https://localhost:8080/",
          "height": 109
        },
        "outputId": "d935ab5b-7e2d-40a9-c864-ef785c4349d7"
      },
      "execution_count": null,
      "outputs": [
        {
          "output_type": "stream",
          "name": "stdout",
          "text": [
            "Length of the variable \"text\": 41\n",
            "Length of the variable \"new\": 9\n",
            "Middle Element in the new variable:  jumps\n",
            "['The', 'a', 'brown', 'dog', 'fox', 'jumps', 'lazy', 'over', 'quick']\n"
          ]
        },
        {
          "output_type": "execute_result",
          "data": {
            "text/plain": [
              "'The a brown dog fox jumps lazy over quick . This is another string'"
            ],
            "application/vnd.google.colaboratory.intrinsic+json": {
              "type": "string"
            }
          },
          "metadata": {},
          "execution_count": 54
        }
      ]
    },
    {
      "cell_type": "markdown",
      "metadata": {
        "id": "lYiBvM6TNvIy"
      },
      "source": [
        "### **Lists**\n",
        "* A datatype that can store a collection of different pieces of information as a sequence under a single variable name\n",
        "* Creating lists - Put comma separated values within square brackets. Values can be of different data types"
      ]
    },
    {
      "cell_type": "code",
      "execution_count": null,
      "metadata": {
        "collapsed": true,
        "id": "CZmTdv2WNvIy"
      },
      "outputs": [],
      "source": [
        "list1 = ['physics','astronomy',56.98,'MJ',-9.36]\n",
        "\n",
        "# list within a list\n",
        "list2 = ['chemistry','biology',77.98,[3,4,65],'EE',-56]"
      ]
    },
    {
      "cell_type": "markdown",
      "metadata": {
        "id": "bw69SFmYNvIy"
      },
      "source": [
        "#### **Accessing values via indexing**\n",
        "* Same as String objects.\n",
        "* Elements or a range of elements can be accessed by index"
      ]
    },
    {
      "cell_type": "code",
      "execution_count": null,
      "metadata": {
        "collapsed": true,
        "id": "NS7D-aAgNvIy",
        "colab": {
          "base_uri": "https://localhost:8080/",
          "height": 36
        },
        "outputId": "f978a61f-f828-4f9b-aab4-bee83de3a6ec"
      },
      "outputs": [
        {
          "output_type": "execute_result",
          "data": {
            "text/plain": [
              "'physics'"
            ],
            "application/vnd.google.colaboratory.intrinsic+json": {
              "type": "string"
            }
          },
          "metadata": {},
          "execution_count": 56
        }
      ],
      "source": [
        "list1[0]"
      ]
    },
    {
      "cell_type": "code",
      "execution_count": null,
      "metadata": {
        "collapsed": true,
        "id": "XR5vfQ3YNvIy",
        "colab": {
          "base_uri": "https://localhost:8080/",
          "height": 36
        },
        "outputId": "60f961ca-29fa-4521-95db-a04fab3b4765"
      },
      "outputs": [
        {
          "output_type": "execute_result",
          "data": {
            "text/plain": [
              "'astronomy'"
            ],
            "application/vnd.google.colaboratory.intrinsic+json": {
              "type": "string"
            }
          },
          "metadata": {},
          "execution_count": 57
        }
      ],
      "source": [
        "list1[1]"
      ]
    },
    {
      "cell_type": "code",
      "execution_count": null,
      "metadata": {
        "collapsed": true,
        "id": "HgDNlxaHNvIz",
        "colab": {
          "base_uri": "https://localhost:8080/"
        },
        "outputId": "2201bab6-aecc-454a-ea84-f4a562a84247"
      },
      "outputs": [
        {
          "output_type": "execute_result",
          "data": {
            "text/plain": [
              "-9.36"
            ]
          },
          "metadata": {},
          "execution_count": 58
        }
      ],
      "source": [
        "list1[-1]"
      ]
    },
    {
      "cell_type": "code",
      "execution_count": null,
      "metadata": {
        "collapsed": true,
        "id": "SKujr44gNvIz",
        "colab": {
          "base_uri": "https://localhost:8080/",
          "height": 36
        },
        "outputId": "5f6cb4a6-f112-404c-f15c-1bf18c32151d"
      },
      "outputs": [
        {
          "output_type": "execute_result",
          "data": {
            "text/plain": [
              "'MJ'"
            ],
            "application/vnd.google.colaboratory.intrinsic+json": {
              "type": "string"
            }
          },
          "metadata": {},
          "execution_count": 59
        }
      ],
      "source": [
        "list1[-2]"
      ]
    },
    {
      "cell_type": "code",
      "execution_count": null,
      "metadata": {
        "collapsed": true,
        "id": "idYH36WgNvIz",
        "colab": {
          "base_uri": "https://localhost:8080/"
        },
        "outputId": "1489913d-d4bb-4d37-a3e5-8912949dcf12"
      },
      "outputs": [
        {
          "output_type": "execute_result",
          "data": {
            "text/plain": [
              "[3, 4, 65]"
            ]
          },
          "metadata": {},
          "execution_count": 60
        }
      ],
      "source": [
        "list2[3]"
      ]
    },
    {
      "cell_type": "code",
      "execution_count": null,
      "metadata": {
        "collapsed": true,
        "id": "pCtzCdEeNvIz",
        "colab": {
          "base_uri": "https://localhost:8080/"
        },
        "outputId": "fbb4a4cc-3284-45f6-9dc2-ea1392310abe"
      },
      "outputs": [
        {
          "output_type": "execute_result",
          "data": {
            "text/plain": [
              "65"
            ]
          },
          "metadata": {},
          "execution_count": 61
        }
      ],
      "source": [
        "list2[3][2]"
      ]
    },
    {
      "cell_type": "code",
      "execution_count": null,
      "metadata": {
        "collapsed": true,
        "id": "PT3_yrtPNvIz",
        "colab": {
          "base_uri": "https://localhost:8080/"
        },
        "outputId": "57517093-e5c7-46a3-e50d-94ef71090f9e"
      },
      "outputs": [
        {
          "output_type": "execute_result",
          "data": {
            "text/plain": [
              "['physics', 'astronomy', 56.98, 'MJ']"
            ]
          },
          "metadata": {},
          "execution_count": 62
        }
      ],
      "source": [
        "list1[0:4]"
      ]
    },
    {
      "cell_type": "code",
      "execution_count": null,
      "metadata": {
        "collapsed": true,
        "id": "h8sZ-rQzNvIz",
        "colab": {
          "base_uri": "https://localhost:8080/"
        },
        "outputId": "0a17be14-7777-4671-8985-37285aa7d91d"
      },
      "outputs": [
        {
          "output_type": "execute_result",
          "data": {
            "text/plain": [
              "[[3, 4, 65], 'EE']"
            ]
          },
          "metadata": {},
          "execution_count": 63
        }
      ],
      "source": [
        "list2[3:5]"
      ]
    },
    {
      "cell_type": "markdown",
      "metadata": {
        "id": "YpvQrhE-NvIz"
      },
      "source": [
        "#### **List Concatenation**\n",
        "**Can be done by using the (+) operator between two lists**"
      ]
    },
    {
      "cell_type": "code",
      "execution_count": null,
      "metadata": {
        "id": "oCYcjOL9NvI0",
        "colab": {
          "base_uri": "https://localhost:8080/"
        },
        "outputId": "ebc43273-7bed-4f9d-d540-780283d4c949"
      },
      "outputs": [
        {
          "output_type": "execute_result",
          "data": {
            "text/plain": [
              "[1, 2, 3, 5, 6, 7]"
            ]
          },
          "metadata": {},
          "execution_count": 64
        }
      ],
      "source": [
        "[1,2,3] + [5,6,7]"
      ]
    },
    {
      "cell_type": "code",
      "execution_count": null,
      "metadata": {
        "collapsed": true,
        "id": "a_N_bIf3NvI0",
        "colab": {
          "base_uri": "https://localhost:8080/"
        },
        "outputId": "74905fef-6e69-4317-c599-98a483643962"
      },
      "outputs": [
        {
          "output_type": "execute_result",
          "data": {
            "text/plain": [
              "['physics',\n",
              " 'astronomy',\n",
              " 56.98,\n",
              " 'MJ',\n",
              " -9.36,\n",
              " 'chemistry',\n",
              " 'biology',\n",
              " 77.98,\n",
              " [3, 4, 65],\n",
              " 'EE',\n",
              " -56]"
            ]
          },
          "metadata": {},
          "execution_count": 65
        }
      ],
      "source": [
        "list1 + list2"
      ]
    },
    {
      "cell_type": "markdown",
      "metadata": {
        "id": "M-OR6K6NNvI0"
      },
      "source": [
        "#### **List Functions and Methods**\n",
        "\n",
        "**Length of a list**"
      ]
    },
    {
      "cell_type": "code",
      "execution_count": null,
      "metadata": {
        "collapsed": true,
        "id": "CXwTmwYENvI0",
        "colab": {
          "base_uri": "https://localhost:8080/"
        },
        "outputId": "2f093408-2463-4466-cfb5-4f6c6cb9efd2"
      },
      "outputs": [
        {
          "output_type": "execute_result",
          "data": {
            "text/plain": [
              "5"
            ]
          },
          "metadata": {},
          "execution_count": 66
        }
      ],
      "source": [
        "len(list1)"
      ]
    },
    {
      "cell_type": "code",
      "execution_count": null,
      "metadata": {
        "collapsed": true,
        "id": "z-2LCdroNvI0",
        "colab": {
          "base_uri": "https://localhost:8080/"
        },
        "outputId": "24a52321-414d-4be0-d353-0e3cc5900508"
      },
      "outputs": [
        {
          "output_type": "execute_result",
          "data": {
            "text/plain": [
              "6"
            ]
          },
          "metadata": {},
          "execution_count": 67
        }
      ],
      "source": [
        "len(list2)"
      ]
    },
    {
      "cell_type": "markdown",
      "metadata": {
        "id": "bevA4YlpNvI0"
      },
      "source": [
        "**Maximum/Minimum value**"
      ]
    },
    {
      "cell_type": "code",
      "execution_count": null,
      "metadata": {
        "collapsed": true,
        "id": "BYfQoxX7NvI0"
      },
      "outputs": [],
      "source": [
        "list3 = [3,4,67,2,1]\n",
        "list4 = ['3','4','67','2','1','four','three']"
      ]
    },
    {
      "cell_type": "code",
      "execution_count": null,
      "metadata": {
        "collapsed": true,
        "id": "1SEKwfBQNvI0",
        "colab": {
          "base_uri": "https://localhost:8080/"
        },
        "outputId": "218be09c-1d8c-432d-9854-bf72b1af75c7"
      },
      "outputs": [
        {
          "output_type": "execute_result",
          "data": {
            "text/plain": [
              "67"
            ]
          },
          "metadata": {},
          "execution_count": 69
        }
      ],
      "source": [
        "max(list3)"
      ]
    },
    {
      "cell_type": "code",
      "execution_count": null,
      "metadata": {
        "collapsed": true,
        "id": "oFt2-oORNvI1",
        "colab": {
          "base_uri": "https://localhost:8080/",
          "height": 36
        },
        "outputId": "6e68b997-94d9-4b92-dfc2-5ec3b850c299"
      },
      "outputs": [
        {
          "output_type": "execute_result",
          "data": {
            "text/plain": [
              "'three'"
            ],
            "application/vnd.google.colaboratory.intrinsic+json": {
              "type": "string"
            }
          },
          "metadata": {},
          "execution_count": 70
        }
      ],
      "source": [
        "max(list4)"
      ]
    },
    {
      "cell_type": "code",
      "execution_count": null,
      "metadata": {
        "collapsed": true,
        "id": "V9931epWNvI1",
        "colab": {
          "base_uri": "https://localhost:8080/",
          "height": 36
        },
        "outputId": "6b46aad8-35c1-493e-d407-332edbb9c2c5"
      },
      "outputs": [
        {
          "output_type": "execute_result",
          "data": {
            "text/plain": [
              "'1'"
            ],
            "application/vnd.google.colaboratory.intrinsic+json": {
              "type": "string"
            }
          },
          "metadata": {},
          "execution_count": 71
        }
      ],
      "source": [
        "min(list4)"
      ]
    },
    {
      "cell_type": "markdown",
      "metadata": {
        "id": "R5CrQtXyNvI1"
      },
      "source": [
        "**Append object to list**"
      ]
    },
    {
      "cell_type": "code",
      "execution_count": null,
      "metadata": {
        "collapsed": true,
        "id": "7hJe-babNvI1",
        "colab": {
          "base_uri": "https://localhost:8080/"
        },
        "outputId": "ae1defcf-ad1f-4162-f914-273db063a06d"
      },
      "outputs": [
        {
          "output_type": "execute_result",
          "data": {
            "text/plain": [
              "['3', '4', '67', '2', '1', 'four', 'three', 'two', 'three']"
            ]
          },
          "metadata": {},
          "execution_count": 72
        }
      ],
      "source": [
        "list4.append('two')\n",
        "list4.append('three')\n",
        "list4"
      ]
    },
    {
      "cell_type": "markdown",
      "metadata": {
        "id": "1y1L596fNvI1"
      },
      "source": [
        "**Frequency of object**"
      ]
    },
    {
      "cell_type": "code",
      "execution_count": null,
      "metadata": {
        "collapsed": true,
        "id": "8rVi8_wANvI1",
        "colab": {
          "base_uri": "https://localhost:8080/"
        },
        "outputId": "fa1a4715-0571-45ab-c0ec-c91e06382374"
      },
      "outputs": [
        {
          "output_type": "execute_result",
          "data": {
            "text/plain": [
              "2"
            ]
          },
          "metadata": {},
          "execution_count": 73
        }
      ],
      "source": [
        "list4.count('three')"
      ]
    },
    {
      "cell_type": "markdown",
      "metadata": {
        "id": "qjCspisuNvI1"
      },
      "source": [
        "**Return index**"
      ]
    },
    {
      "cell_type": "code",
      "execution_count": null,
      "metadata": {
        "id": "RjwEcReLNvI2",
        "colab": {
          "base_uri": "https://localhost:8080/"
        },
        "outputId": "5869ae92-b9d5-49b0-bda7-f26ba2885ff3"
      },
      "outputs": [
        {
          "output_type": "execute_result",
          "data": {
            "text/plain": [
              "4"
            ]
          },
          "metadata": {},
          "execution_count": 74
        }
      ],
      "source": [
        "list4.index('1')"
      ]
    },
    {
      "cell_type": "markdown",
      "metadata": {
        "id": "_0OMhT3SNvI2"
      },
      "source": [
        "**Insert object**"
      ]
    },
    {
      "cell_type": "code",
      "execution_count": null,
      "metadata": {
        "collapsed": true,
        "id": "M57ba0IVNvI2",
        "colab": {
          "base_uri": "https://localhost:8080/"
        },
        "outputId": "7fc427e9-2140-4379-feee-aa98c630655a"
      },
      "outputs": [
        {
          "output_type": "execute_result",
          "data": {
            "text/plain": [
              "['3', '4', '67', 56, '2', '1', 'four', 'three', 'two', 'three']"
            ]
          },
          "metadata": {},
          "execution_count": 75
        }
      ],
      "source": [
        "list4.insert(3,56)\n",
        "list4"
      ]
    },
    {
      "cell_type": "markdown",
      "metadata": {
        "id": "UgC1r-6KNvI2"
      },
      "source": [
        "**Delete object**\n",
        "\n",
        "*By Index position*"
      ]
    },
    {
      "cell_type": "code",
      "execution_count": null,
      "metadata": {
        "collapsed": true,
        "id": "YX9BnIdjNvI2",
        "colab": {
          "base_uri": "https://localhost:8080/"
        },
        "outputId": "85b3eb86-f4cd-4e71-d3f9-53b27b48bbe9"
      },
      "outputs": [
        {
          "output_type": "execute_result",
          "data": {
            "text/plain": [
              "56"
            ]
          },
          "metadata": {},
          "execution_count": 76
        }
      ],
      "source": [
        "list4.pop(3)"
      ]
    },
    {
      "cell_type": "code",
      "execution_count": null,
      "metadata": {
        "collapsed": true,
        "id": "Na7wOJGcNvI_",
        "colab": {
          "base_uri": "https://localhost:8080/"
        },
        "outputId": "f92fcdfd-de61-460a-af52-adb0fe37d64a"
      },
      "outputs": [
        {
          "output_type": "execute_result",
          "data": {
            "text/plain": [
              "['3', '4', '67', '2', '1', 'four', 'three', 'two', 'three']"
            ]
          },
          "metadata": {},
          "execution_count": 77
        }
      ],
      "source": [
        "list4"
      ]
    },
    {
      "cell_type": "markdown",
      "metadata": {
        "id": "0MeQjjbCNvI_"
      },
      "source": [
        "*By element referencing*"
      ]
    },
    {
      "cell_type": "code",
      "execution_count": null,
      "metadata": {
        "collapsed": true,
        "id": "pIHi1z7sNvI_"
      },
      "outputs": [],
      "source": [
        "list4.remove('67')"
      ]
    },
    {
      "cell_type": "code",
      "execution_count": null,
      "metadata": {
        "collapsed": true,
        "id": "v4LUANfxNvI_",
        "colab": {
          "base_uri": "https://localhost:8080/"
        },
        "outputId": "058119a0-4919-4039-dc77-267a3f62fda1"
      },
      "outputs": [
        {
          "output_type": "execute_result",
          "data": {
            "text/plain": [
              "['3', '4', '2', '1', 'four', 'three', 'two', 'three']"
            ]
          },
          "metadata": {},
          "execution_count": 79
        }
      ],
      "source": [
        "list4"
      ]
    },
    {
      "cell_type": "markdown",
      "metadata": {
        "id": "UImX-Ia1NvJA"
      },
      "source": [
        "**Reverse the list**"
      ]
    },
    {
      "cell_type": "code",
      "execution_count": null,
      "metadata": {
        "collapsed": true,
        "id": "KyIXlL1sNvJA",
        "colab": {
          "base_uri": "https://localhost:8080/"
        },
        "outputId": "b0c8f60e-fff8-4da5-d82d-1623ccbeaade"
      },
      "outputs": [
        {
          "output_type": "execute_result",
          "data": {
            "text/plain": [
              "['three', 'two', 'three', 'four', '1', '2', '4', '3']"
            ]
          },
          "metadata": {},
          "execution_count": 80
        }
      ],
      "source": [
        "list4.reverse()\n",
        "list4"
      ]
    },
    {
      "cell_type": "markdown",
      "metadata": {
        "id": "GzMWxPoHNvJA"
      },
      "source": [
        "**Sort the list (natural order)**"
      ]
    },
    {
      "cell_type": "code",
      "execution_count": null,
      "metadata": {
        "collapsed": true,
        "id": "M6N95hBiNvJA",
        "colab": {
          "base_uri": "https://localhost:8080/"
        },
        "outputId": "1ce424c3-2ca0-46b1-f89a-ee5a72483803"
      },
      "outputs": [
        {
          "output_type": "execute_result",
          "data": {
            "text/plain": [
              "['1', '2', '3', '4', 'four', 'three', 'three', 'two']"
            ]
          },
          "metadata": {},
          "execution_count": 81
        }
      ],
      "source": [
        "list4.sort()\n",
        "list4"
      ]
    },
    {
      "cell_type": "markdown",
      "source": [
        "**List conversion**"
      ],
      "metadata": {
        "id": "up4bi0TVSdfh"
      }
    },
    {
      "cell_type": "code",
      "source": [
        "str1 = 'This is a string value'\n",
        "lst1 = list(str1)\n",
        "print(lst1)"
      ],
      "metadata": {
        "id": "9w_oLzy7Sp8Q",
        "colab": {
          "base_uri": "https://localhost:8080/"
        },
        "outputId": "76e1f4f2-1e39-4a0f-b840-c8db4232a563"
      },
      "execution_count": null,
      "outputs": [
        {
          "output_type": "stream",
          "name": "stdout",
          "text": [
            "['T', 'h', 'i', 's', ' ', 'i', 's', ' ', 'a', ' ', 's', 't', 'r', 'i', 'n', 'g', ' ', 'v', 'a', 'l', 'u', 'e']\n"
          ]
        }
      ]
    },
    {
      "cell_type": "markdown",
      "metadata": {
        "id": "Mv7CzGfPNvJC"
      },
      "source": [
        "**<h5><center>Note</center></h5>**\n",
        "\n",
        "**Lists are \"MUTABLE\"**"
      ]
    },
    {
      "cell_type": "code",
      "execution_count": null,
      "metadata": {
        "collapsed": true,
        "id": "7bMz1aJHNvJC",
        "colab": {
          "base_uri": "https://localhost:8080/"
        },
        "outputId": "36f5f187-bb38-48d5-a2d0-b99c2ccb8e17"
      },
      "outputs": [
        {
          "output_type": "execute_result",
          "data": {
            "text/plain": [
              "['1', '2', '3', '4', 'four', 5, 'three', 'two']"
            ]
          },
          "metadata": {},
          "execution_count": 83
        }
      ],
      "source": [
        "list4[5] = 5\n",
        "list4"
      ]
    },
    {
      "cell_type": "markdown",
      "metadata": {
        "id": "PsMCPT8ENvJC"
      },
      "source": [
        "### **Tuples**\n",
        "Tuples are sequences, just like lists except\n",
        "* Tuples are immutable - cannot be changed or updated like lists\n",
        "* Tuples use parentheses ( ), whereas lists use square brackets [ ]"
      ]
    },
    {
      "cell_type": "code",
      "execution_count": null,
      "metadata": {
        "collapsed": true,
        "id": "WwCWXLGqNvJC"
      },
      "outputs": [],
      "source": [
        "tup1 = (3,4,67,2,1)"
      ]
    },
    {
      "cell_type": "markdown",
      "metadata": {
        "id": "QG8sjYBhNvJC"
      },
      "source": [
        "**Tuples are Mutable**\n",
        "\n",
        "**tup[2] = 8**\n",
        "<br>\n",
        "will result in the error below\n",
        "\n",
        "*TypeError                                 Traceback (most recent call last)*\n",
        "<br>\n",
        "*\\< ipython-input-177-256383ac5724 > in < module >()*\n",
        "<br>\n",
        "*----> 1 tup[2] = 8*\n",
        "<br>\n",
        "*TypeError: 'tuple' object does not support item assignment*"
      ]
    },
    {
      "cell_type": "markdown",
      "source": [
        "**Tuple conversion**"
      ],
      "metadata": {
        "id": "K1ZIyonfUayL"
      }
    },
    {
      "cell_type": "code",
      "source": [
        "tup2 = tuple([1,2,3,4,5])\n",
        "print(tup2)"
      ],
      "metadata": {
        "id": "jWEHXFJYUXEM",
        "colab": {
          "base_uri": "https://localhost:8080/"
        },
        "outputId": "cc8f214c-24b2-467d-d4c4-2c97cf51076e"
      },
      "execution_count": null,
      "outputs": [
        {
          "output_type": "stream",
          "name": "stdout",
          "text": [
            "(1, 2, 3, 4, 5)\n"
          ]
        }
      ]
    }
  ],
  "metadata": {
    "kernelspec": {
      "display_name": "Python 3",
      "language": "python",
      "name": "python3"
    },
    "language_info": {
      "codemirror_mode": {
        "name": "ipython",
        "version": 3
      },
      "file_extension": ".py",
      "mimetype": "text/x-python",
      "name": "python",
      "nbconvert_exporter": "python",
      "pygments_lexer": "ipython3",
      "version": "3.7.3"
    },
    "colab": {
      "provenance": [],
      "collapsed_sections": [
        "bvelBHQ_VGLU",
        "vHGdL9tyVIQM",
        "vZWS8PPxNvIj",
        "rYURQKUTNvIj",
        "VFPs8YiVNvIk",
        "i6VgPlE1NvIk",
        "_3KMOMXtNvIl",
        "T_EqACQqNvIl",
        "Ob1ams-PNvIm",
        "r_znuyrJNvIr",
        "yy3WliZLNvIt",
        "KoOsi92XNvIx"
      ]
    }
  },
  "nbformat": 4,
  "nbformat_minor": 0
}